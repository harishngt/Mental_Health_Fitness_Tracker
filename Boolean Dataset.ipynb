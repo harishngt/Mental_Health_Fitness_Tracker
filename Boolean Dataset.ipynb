{
 "cells": [
  {
   "cell_type": "code",
   "execution_count": 6,
   "id": "06bc45ca",
   "metadata": {},
   "outputs": [],
   "source": [
    "import pandas as pd\n",
    "\n",
    "# Load your probability-based dataset\n",
    "df = pd.read_csv('mental-and-substance-use-as-share-of-disease.csv')\n",
    "\n",
    "# Define your threshold (e.g., 0.5)\n",
    "threshold = 3.00\n",
    "\n",
    "# Apply the threshold and create a boolean-based dataset\n",
    "df['DALY Boolean'] = df['DALYs (Disability-Adjusted Life Years) - Mental disorders - Sex: Both - Age: All Ages (Percent)'] >= threshold\n",
    "\n",
    "# Save the boolean-based dataset to a new CSV file if needed\n",
    "df.to_csv('mental-and-substance-use-bool.csv', index=False)\n"
   ]
  },
  {
   "cell_type": "code",
   "execution_count": 9,
   "id": "55476663",
   "metadata": {
    "scrolled": true
   },
   "outputs": [
    {
     "name": "stdout",
     "output_type": "stream",
     "text": [
      "Maximum value in 'Schizophrenia disorders (share of population) - Sex: Both - Age: Age-standardized': 0.4620453\n",
      "Minimum value in 'Schizophrenia disorders (share of population) - Sex: Both - Age: Age-standardized': 0.18841599\n",
      "Maximum value in 'Bipolar disorders (share of population) - Sex: Both - Age: Age-standardized': 1.5067295\n",
      "Minimum value in 'Bipolar disorders (share of population) - Sex: Both - Age: Age-standardized': 0.18166696\n",
      "Maximum value in 'Eating disorders (share of population) - Sex: Both - Age: Age-standardized': 1.0316882\n",
      "Minimum value in 'Eating disorders (share of population) - Sex: Both - Age: Age-standardized': 0.044780303\n",
      "Maximum value in 'Anxiety disorders (share of population) - Sex: Both - Age: Age-standardized': 8.624634\n",
      "Minimum value in 'Anxiety disorders (share of population) - Sex: Both - Age: Age-standardized': 1.8799964\n",
      "Maximum value in 'Prevalence - Drug use disorders - Sex: Both - Age: Age-standardized (Percent)': 3.7\n",
      "Minimum value in 'Prevalence - Drug use disorders - Sex: Both - Age: Age-standardized (Percent)': 0.23\n",
      "Maximum value in 'Depressive disorders (share of population) - Sex: Both - Age: Age-standardized': 7.6458993\n",
      "Minimum value in 'Depressive disorders (share of population) - Sex: Both - Age: Age-standardized': 1.5223331\n",
      "Maximum value in 'Prevalence - Alcohol use disorders - Sex: Both - Age: Age-standardized (Percent)': 4.7\n",
      "Minimum value in 'Prevalence - Alcohol use disorders - Sex: Both - Age: Age-standardized (Percent)': 0.32\n"
     ]
    }
   ],
   "source": [
    "import pandas as pd\n",
    "\n",
    "# Replace 'your_file.csv' with the path to your CSV file\n",
    "# file_path = 'your_file.csv'\n",
    "\n",
    "# Read the CSV file into a Pandas DataFrame\n",
    "df1 = pd.read_csv('prevalence-by-mental-and-substance-use-disorder.csv')\n",
    "\n",
    "# Replace 'column_name' with the name of the column you want to find the maximum and minimum values for\n",
    "column_name1 = 'Schizophrenia disorders (share of population) - Sex: Both - Age: Age-standardized'\n",
    "column_name2 = 'Bipolar disorders (share of population) - Sex: Both - Age: Age-standardized'\n",
    "column_name3 = 'Eating disorders (share of population) - Sex: Both - Age: Age-standardized'\n",
    "column_name4 = 'Anxiety disorders (share of population) - Sex: Both - Age: Age-standardized'\n",
    "column_name5 = 'Prevalence - Drug use disorders - Sex: Both - Age: Age-standardized (Percent)'\n",
    "column_name6 = 'Depressive disorders (share of population) - Sex: Both - Age: Age-standardized'\n",
    "column_name7 = 'Prevalence - Alcohol use disorders - Sex: Both - Age: Age-standardized (Percent)'\n",
    "\n",
    "# Find the maximum and minimum values in the specified column\n",
    "max_value1 = df1[column_name1].max()\n",
    "min_value1 = df1[column_name1].min()\n",
    "max_value2 = df1[column_name2].max()\n",
    "min_value2 = df1[column_name2].min()\n",
    "max_value3 = df1[column_name3].max()\n",
    "min_value3 = df1[column_name3].min()\n",
    "max_value4 = df1[column_name4].max()\n",
    "min_value4 = df1[column_name4].min()\n",
    "max_value5 = df1[column_name5].max()\n",
    "min_value5 = df1[column_name5].min()\n",
    "max_value6 = df1[column_name6].max()\n",
    "min_value6 = df1[column_name6].min()\n",
    "max_value7 = df1[column_name7].max()\n",
    "min_value7 = df1[column_name7].min()\n",
    "\n",
    "print(f\"Maximum value in '{column_name1}': {max_value1}\")\n",
    "print(f\"Minimum value in '{column_name1}': {min_value1}\")\n",
    "\n",
    "print(f\"Maximum value in '{column_name2}': {max_value2}\")\n",
    "print(f\"Minimum value in '{column_name2}': {min_value2}\")\n",
    "\n",
    "print(f\"Maximum value in '{column_name3}': {max_value3}\")\n",
    "print(f\"Minimum value in '{column_name3}': {min_value3}\")\n",
    "\n",
    "print(f\"Maximum value in '{column_name4}': {max_value4}\")\n",
    "print(f\"Minimum value in '{column_name4}': {min_value4}\")\n",
    "\n",
    "print(f\"Maximum value in '{column_name5}': {max_value5}\")\n",
    "print(f\"Minimum value in '{column_name5}': {min_value5}\")\n",
    "\n",
    "print(f\"Maximum value in '{column_name6}': {max_value6}\")\n",
    "print(f\"Minimum value in '{column_name6}': {min_value6}\")\n",
    "\n",
    "print(f\"Maximum value in '{column_name7}': {max_value7}\")\n",
    "print(f\"Minimum value in '{column_name7}': {min_value7}\")\n"
   ]
  },
  {
   "cell_type": "code",
   "execution_count": 4,
   "id": "9f744b8d",
   "metadata": {
    "scrolled": true
   },
   "outputs": [
    {
     "name": "stdout",
     "output_type": "stream",
     "text": [
      "D:\\Programming\\Mental_Fitness_Tracker\n"
     ]
    }
   ],
   "source": [
    "cd D:\\Programming\\Mental_Fitness_Tracker"
   ]
  },
  {
   "cell_type": "code",
   "execution_count": 10,
   "id": "40491d72",
   "metadata": {},
   "outputs": [],
   "source": [
    "import pandas as pd\n",
    "\n",
    "# Load your probability-based dataset\n",
    "df1 = pd.read_csv('prevalence-by-mental-and-substance-use-disorder.csv')\n",
    "\n",
    "# Define your threshold (e.g., 0.5)\n",
    "threshold1 = 0.21\n",
    "threshold2 = 0.42\n",
    "threshold3 = 0.37\n",
    "threshold4 = 2.62\n",
    "threshold5 = 0.98\n",
    "threshold6 = 3.00\n",
    "threshold7 = 1.00\n",
    "\n",
    "# Apply the threshold and create a boolean-based dataset\n",
    "df1['Schizophrenia Boolean'] = df1['Schizophrenia disorders (share of population) - Sex: Both - Age: Age-standardized'] >= threshold1\n",
    "df1['Bipolar Boolean'] = df1['Bipolar disorders (share of population) - Sex: Both - Age: Age-standardized'] >= threshold2\n",
    "df1['Eating Boolean'] = df1['Eating disorders (share of population) - Sex: Both - Age: Age-standardized'] >= threshold3\n",
    "df1['Anxiety Boolean'] = df1['Anxiety disorders (share of population) - Sex: Both - Age: Age-standardized'] >= threshold4\n",
    "df1['Drug Use Boolean'] = df1['Prevalence - Drug use disorders - Sex: Both - Age: Age-standardized (Percent)'] >= threshold5\n",
    "df1['Depressive Boolean'] = df1['Depressive disorders (share of population) - Sex: Both - Age: Age-standardized'] >= threshold6\n",
    "df1['Alcohol Use Boolean'] = df1['Prevalence - Alcohol use disorders - Sex: Both - Age: Age-standardized (Percent)'] >= threshold7\n",
    "\n",
    "# Save the boolean-based dataset to a new CSV file if needed\n",
    "df1.to_csv('prevalence-bool.csv', index=False)\n"
   ]
  },
  {
   "cell_type": "code",
   "execution_count": null,
   "id": "3878fb72",
   "metadata": {},
   "outputs": [],
   "source": []
  }
 ],
 "metadata": {
  "kernelspec": {
   "display_name": "Python 3 (ipykernel)",
   "language": "python",
   "name": "python3"
  },
  "language_info": {
   "codemirror_mode": {
    "name": "ipython",
    "version": 3
   },
   "file_extension": ".py",
   "mimetype": "text/x-python",
   "name": "python",
   "nbconvert_exporter": "python",
   "pygments_lexer": "ipython3",
   "version": "3.9.7"
  }
 },
 "nbformat": 4,
 "nbformat_minor": 5
}
