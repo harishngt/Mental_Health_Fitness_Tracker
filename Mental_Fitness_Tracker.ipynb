{
 "cells": [
  {
   "cell_type": "code",
   "execution_count": 1,
   "id": "b6608132",
   "metadata": {
    "scrolled": false
   },
   "outputs": [
    {
     "name": "stdout",
     "output_type": "stream",
     "text": [
      "Requirement already satisfied: pandas in c:\\users\\hk210\\anaconda3\\lib\\site-packages (1.3.4)\n",
      "Requirement already satisfied: numpy in c:\\users\\hk210\\anaconda3\\lib\\site-packages (1.22.4)\n",
      "Requirement already satisfied: matplotlib in c:\\users\\hk210\\anaconda3\\lib\\site-packages (3.4.3)\n",
      "Requirement already satisfied: seaborn in c:\\users\\hk210\\anaconda3\\lib\\site-packages (0.11.2)\n",
      "Requirement already satisfied: scikit-learn in c:\\users\\hk210\\anaconda3\\lib\\site-packages (0.24.2)\n",
      "Requirement already satisfied: xgboost in c:\\users\\hk210\\anaconda3\\lib\\site-packages (2.0.0)\n",
      "Requirement already satisfied: pytz>=2017.3 in c:\\users\\hk210\\anaconda3\\lib\\site-packages (from pandas) (2021.3)\n",
      "Requirement already satisfied: python-dateutil>=2.7.3 in c:\\users\\hk210\\anaconda3\\lib\\site-packages (from pandas) (2.8.2)\n",
      "Requirement already satisfied: cycler>=0.10 in c:\\users\\hk210\\anaconda3\\lib\\site-packages (from matplotlib) (0.10.0)\n",
      "Requirement already satisfied: pyparsing>=2.2.1 in c:\\users\\hk210\\anaconda3\\lib\\site-packages (from matplotlib) (3.0.4)\n",
      "Requirement already satisfied: kiwisolver>=1.0.1 in c:\\users\\hk210\\anaconda3\\lib\\site-packages (from matplotlib) (1.3.1)\n",
      "Requirement already satisfied: pillow>=6.2.0 in c:\\users\\hk210\\anaconda3\\lib\\site-packages (from matplotlib) (8.4.0)\n",
      "Requirement already satisfied: scipy>=1.0 in c:\\users\\hk210\\anaconda3\\lib\\site-packages (from seaborn) (1.7.1)\n",
      "Requirement already satisfied: joblib>=0.11 in c:\\users\\hk210\\anaconda3\\lib\\site-packages (from scikit-learn) (1.1.0)\n",
      "Requirement already satisfied: threadpoolctl>=2.0.0 in c:\\users\\hk210\\anaconda3\\lib\\site-packages (from scikit-learn) (2.2.0)\n",
      "Requirement already satisfied: six in c:\\users\\hk210\\anaconda3\\lib\\site-packages (from cycler>=0.10->matplotlib) (1.16.0)\n",
      "Note: you may need to restart the kernel to use updated packages.\n"
     ]
    }
   ],
   "source": [
    "pip install pandas numpy matplotlib seaborn scikit-learn xgboost"
   ]
  },
  {
   "cell_type": "code",
   "execution_count": 2,
   "id": "2ed2d312",
   "metadata": {},
   "outputs": [
    {
     "name": "stdout",
     "output_type": "stream",
     "text": [
      "Current working directory: C:\\Users\\hk210\n"
     ]
    }
   ],
   "source": [
    "import os\n",
    "\n",
    "# Get the current working directory\n",
    "current_directory = os.getcwd()\n",
    "print(\"Current working directory:\", current_directory)\n"
   ]
  },
  {
   "cell_type": "code",
   "execution_count": 3,
   "id": "40d58c52",
   "metadata": {},
   "outputs": [],
   "source": [
    "import os\n",
    "\n",
    "# Change the directory\n",
    "os.chdir('D:\\Programming\\Mental_Fitness_Tracker')  # Replace '/path/to/your/directory' with the desired directory path\n"
   ]
  },
  {
   "cell_type": "code",
   "execution_count": 4,
   "id": "5f9c6aa9",
   "metadata": {},
   "outputs": [],
   "source": [
    "import pandas as pd\n",
    "import numpy as np\n",
    "import matplotlib.pyplot as plt\n",
    "import seaborn as sns\n",
    "from sklearn.model_selection import train_test_split\n",
    "from sklearn.linear_model import Ridge, Lasso, ElasticNet, LinearRegression, BayesianRidge\n",
    "from sklearn.svm import SVR\n",
    "from sklearn.tree import DecisionTreeRegressor\n",
    "from sklearn.ensemble import RandomForestRegressor, GradientBoostingRegressor\n",
    "from sklearn.preprocessing import PolynomialFeatures\n",
    "from sklearn.metrics import mean_squared_error, r2_score\n",
    "from xgboost import XGBRegressor\n",
    "from sklearn.neighbors import KNeighborsRegressor\n",
    "from sklearn.neural_network import MLPRegressor"
   ]
  },
  {
   "cell_type": "code",
   "execution_count": 5,
   "id": "613153ed",
   "metadata": {
    "scrolled": true
   },
   "outputs": [],
   "source": [
    "df1 = pd.read_csv('mental-and-substance-use-as-share-of-disease.csv')\n",
    "df2 = pd.read_csv('prevalence-by-mental-and-substance-use-disorder(1000).csv')\n",
    "df3 = pd.read_csv('mental-and-substance-use-bool.csv')\n",
    "df4 = pd.read_csv('prevalence-bool.csv')\n",
    "df5=pd.read_csv('share-with-mental-or-substance-disorders-by-sex.csv')"
   ]
  },
  {
   "cell_type": "code",
   "execution_count": 6,
   "id": "656b93d9",
   "metadata": {},
   "outputs": [
    {
     "name": "stdout",
     "output_type": "stream",
     "text": [
      "Mean: 4.818070175438599\n"
     ]
    }
   ],
   "source": [
    "# Calculate the mean of a specific column (e.g., 'column_name')\n",
    "mean_value = df1['DALYs (Disability-Adjusted Life Years) - Mental disorders - Sex: Both - Age: All Ages (Percent)'].mean()\n",
    "print(f\"Mean: {mean_value}\")\n"
   ]
  },
  {
   "cell_type": "code",
   "execution_count": 7,
   "id": "7f7e1ddf",
   "metadata": {},
   "outputs": [
    {
     "name": "stdout",
     "output_type": "stream",
     "text": [
      "Median: 4.68\n"
     ]
    }
   ],
   "source": [
    "# Calculate the median of a specific column (e.g., 'column_name')\n",
    "median_value = df1['DALYs (Disability-Adjusted Life Years) - Mental disorders - Sex: Both - Age: All Ages (Percent)'].median()\n",
    "print(f\"Median: {median_value}\")\n"
   ]
  },
  {
   "cell_type": "code",
   "execution_count": 8,
   "id": "e8ab993f",
   "metadata": {},
   "outputs": [
    {
     "name": "stdout",
     "output_type": "stream",
     "text": [
      "Mode: 4.59\n"
     ]
    }
   ],
   "source": [
    "from scipy import stats\n",
    "\n",
    "# Calculate the mode of a specific column (e.g., 'column_name')\n",
    "mode_value = stats.mode(df1['DALYs (Disability-Adjusted Life Years) - Mental disorders - Sex: Both - Age: All Ages (Percent)'])\n",
    "print(f\"Mode: {mode_value.mode[0]}\")\n"
   ]
  },
  {
   "cell_type": "code",
   "execution_count": 9,
   "id": "beb29484",
   "metadata": {},
   "outputs": [
    {
     "name": "stdout",
     "output_type": "stream",
     "text": [
      "Mean: 0.28162353135522966\n"
     ]
    }
   ],
   "source": [
    "# Calculate the mean of a specific column (e.g., 'column_name')\n",
    "mean_value = df2['Schizophrenia'].mean()\n",
    "print(f\"Mean: {mean_value}\")"
   ]
  },
  {
   "cell_type": "code",
   "execution_count": 10,
   "id": "6dcc7edf",
   "metadata": {},
   "outputs": [
    {
     "name": "stdout",
     "output_type": "stream",
     "text": [
      "Mean: 0.7263415339986797\n"
     ]
    }
   ],
   "source": [
    "mean_value = df2['Bipolar disorder'].mean()\n",
    "print(f\"Mean: {mean_value}\")"
   ]
  },
  {
   "cell_type": "code",
   "execution_count": 11,
   "id": "b16d90b1",
   "metadata": {},
   "outputs": [
    {
     "name": "stdout",
     "output_type": "stream",
     "text": [
      "Mean: 0.23316536834755458\n"
     ]
    }
   ],
   "source": [
    "mean_value = df2['Eating disorders'].mean()\n",
    "print(f\"Mean: {mean_value}\")"
   ]
  },
  {
   "cell_type": "code",
   "execution_count": 12,
   "id": "a62b91c7",
   "metadata": {},
   "outputs": [
    {
     "name": "stdout",
     "output_type": "stream",
     "text": [
      "Mean: 4.359566538661005\n"
     ]
    }
   ],
   "source": [
    "mean_value = df2['Anxiety disorders'].mean()\n",
    "print(f\"Mean: {mean_value}\")"
   ]
  },
  {
   "cell_type": "code",
   "execution_count": 13,
   "id": "ec3fa7e3",
   "metadata": {},
   "outputs": [
    {
     "name": "stdout",
     "output_type": "stream",
     "text": [
      "Mean: 0.7210294214651618\n"
     ]
    }
   ],
   "source": [
    "mean_value = df2['Drug use disorders'].mean()\n",
    "print(f\"Mean: {mean_value}\")"
   ]
  },
  {
   "cell_type": "code",
   "execution_count": 14,
   "id": "1542f877",
   "metadata": {},
   "outputs": [
    {
     "name": "stdout",
     "output_type": "stream",
     "text": [
      "Mean: 3.8456315513269423\n"
     ]
    }
   ],
   "source": [
    "mean_value = df2['Depressive disorders'].mean()\n",
    "print(f\"Mean: {mean_value}\")"
   ]
  },
  {
   "cell_type": "code",
   "execution_count": 15,
   "id": "f37f5e3f",
   "metadata": {},
   "outputs": [
    {
     "name": "stdout",
     "output_type": "stream",
     "text": [
      "Mean: 1.6162372745285458\n"
     ]
    }
   ],
   "source": [
    "mean_value = df2['Alcohol use disorders'].mean()\n",
    "print(f\"Mean: {mean_value}\")"
   ]
  },
  {
   "cell_type": "code",
   "execution_count": 16,
   "id": "f2fd3dec",
   "metadata": {},
   "outputs": [
    {
     "name": "stdout",
     "output_type": "stream",
     "text": [
      "Median: 0.29083998022821\n"
     ]
    }
   ],
   "source": [
    "median_value = df2['Schizophrenia'].median()\n",
    "print(f\"Median: {median_value}\")"
   ]
  },
  {
   "cell_type": "code",
   "execution_count": 17,
   "id": "450c0600",
   "metadata": {},
   "outputs": [
    {
     "name": "stdout",
     "output_type": "stream",
     "text": [
      "Median: 0.58743300435136\n"
     ]
    }
   ],
   "source": [
    "median_value = df2['Bipolar disorder'].median()\n",
    "print(f\"Median: {median_value}\")"
   ]
  },
  {
   "cell_type": "code",
   "execution_count": 18,
   "id": "7a82b1b8",
   "metadata": {},
   "outputs": [
    {
     "name": "stdout",
     "output_type": "stream",
     "text": [
      "Median: 0.14920781315807\n"
     ]
    }
   ],
   "source": [
    "median_value = df2['Eating disorders'].median()\n",
    "print(f\"Median: {median_value}\")"
   ]
  },
  {
   "cell_type": "code",
   "execution_count": 19,
   "id": "abc98b33",
   "metadata": {},
   "outputs": [
    {
     "name": "stdout",
     "output_type": "stream",
     "text": [
      "Median: 4.18852032454975\n"
     ]
    }
   ],
   "source": [
    "median_value = df2['Anxiety disorders'].median()\n",
    "print(f\"Median: {median_value}\")"
   ]
  },
  {
   "cell_type": "code",
   "execution_count": 20,
   "id": "cea49e4c",
   "metadata": {},
   "outputs": [
    {
     "name": "stdout",
     "output_type": "stream",
     "text": [
      "Median: 0.5931298069331901\n"
     ]
    }
   ],
   "source": [
    "median_value = df2['Drug use disorders'].median()\n",
    "print(f\"Median: {median_value}\")"
   ]
  },
  {
   "cell_type": "code",
   "execution_count": 21,
   "id": "8449c6c6",
   "metadata": {},
   "outputs": [
    {
     "name": "stdout",
     "output_type": "stream",
     "text": [
      "Median: 3.8447497938764\n"
     ]
    }
   ],
   "source": [
    "median_value = df2['Depressive disorders'].median()\n",
    "print(f\"Median: {median_value}\")"
   ]
  },
  {
   "cell_type": "code",
   "execution_count": 22,
   "id": "b04428a1",
   "metadata": {},
   "outputs": [
    {
     "name": "stdout",
     "output_type": "stream",
     "text": [
      "Median: 1.6011262494403802\n"
     ]
    }
   ],
   "source": [
    "median_value = df2['Alcohol use disorders'].median()\n",
    "print(f\"Median: {median_value}\")"
   ]
  },
  {
   "cell_type": "code",
   "execution_count": 23,
   "id": "98a3a014",
   "metadata": {},
   "outputs": [
    {
     "name": "stdout",
     "output_type": "stream",
     "text": [
      "Mode: 0.20264367505115\n"
     ]
    }
   ],
   "source": [
    "from scipy import stats\n",
    "\n",
    "# Calculate the mode of a specific column (e.g., 'column_name')\n",
    "mode_value = stats.mode(df2['Schizophrenia'])\n",
    "print(f\"Mode: {mode_value.mode[0]}\")"
   ]
  },
  {
   "cell_type": "code",
   "execution_count": 24,
   "id": "e82bd795",
   "metadata": {},
   "outputs": [
    {
     "name": "stdout",
     "output_type": "stream",
     "text": [
      "Mode: 0.2936091120549799\n"
     ]
    }
   ],
   "source": [
    "from scipy import stats\n",
    "\n",
    "# Calculate the mode of a specific column (e.g., 'column_name')\n",
    "mode_value = stats.mode(df2['Bipolar disorder'])\n",
    "print(f\"Mode: {mode_value.mode[0]}\")"
   ]
  },
  {
   "cell_type": "code",
   "execution_count": 25,
   "id": "f730b281",
   "metadata": {},
   "outputs": [
    {
     "name": "stdout",
     "output_type": "stream",
     "text": [
      "Mode: 0.06170375268296\n"
     ]
    }
   ],
   "source": [
    "from scipy import stats\n",
    "\n",
    "# Calculate the mode of a specific column (e.g., 'column_name')\n",
    "mode_value = stats.mode(df2['Eating disorders'])\n",
    "print(f\"Mode: {mode_value.mode[0]}\")"
   ]
  },
  {
   "cell_type": "code",
   "execution_count": 26,
   "id": "2324f267",
   "metadata": {},
   "outputs": [
    {
     "name": "stdout",
     "output_type": "stream",
     "text": [
      "Mode: 2.6424851184137\n"
     ]
    }
   ],
   "source": [
    "from scipy import stats\n",
    "\n",
    "# Calculate the mode of a specific column (e.g., 'column_name')\n",
    "mode_value = stats.mode(df2['Anxiety disorders'])\n",
    "print(f\"Mode: {mode_value.mode[0]}\")"
   ]
  },
  {
   "cell_type": "code",
   "execution_count": 27,
   "id": "a15741ed",
   "metadata": {},
   "outputs": [
    {
     "name": "stdout",
     "output_type": "stream",
     "text": [
      "Mode: 0.2352661944434\n"
     ]
    }
   ],
   "source": [
    "from scipy import stats\n",
    "\n",
    "# Calculate the mode of a specific column (e.g., 'column_name')\n",
    "mode_value = stats.mode(df2['Drug use disorders'])\n",
    "print(f\"Mode: {mode_value.mode[0]}\")"
   ]
  },
  {
   "cell_type": "code",
   "execution_count": 28,
   "id": "581c821d",
   "metadata": {},
   "outputs": [
    {
     "name": "stdout",
     "output_type": "stream",
     "text": [
      "Mode: 1.64090172928117\n"
     ]
    }
   ],
   "source": [
    "from scipy import stats\n",
    "\n",
    "# Calculate the mode of a specific column (e.g., 'column_name')\n",
    "mode_value = stats.mode(df2['Depressive disorders'])\n",
    "print(f\"Mode: {mode_value.mode[0]}\")"
   ]
  },
  {
   "cell_type": "code",
   "execution_count": 29,
   "id": "e796c94a",
   "metadata": {
    "scrolled": true
   },
   "outputs": [
    {
     "name": "stdout",
     "output_type": "stream",
     "text": [
      "Mode: 0.42501101133664\n"
     ]
    }
   ],
   "source": [
    "from scipy import stats\n",
    "\n",
    "# Calculate the mode of a specific column (e.g., 'column_name')\n",
    "mode_value = stats.mode(df2['Alcohol use disorders'])\n",
    "print(f\"Mode: {mode_value.mode[0]}\")"
   ]
  },
  {
   "cell_type": "code",
   "execution_count": 55,
   "id": "ab6ca4d9",
   "metadata": {},
   "outputs": [
    {
     "name": "stdout",
     "output_type": "stream",
     "text": [
      "Reject the null hypothesis: There is a significant difference between groups.\n",
      "0.0\n"
     ]
    },
    {
     "name": "stderr",
     "output_type": "stream",
     "text": [
      "C:\\Users\\hk210\\anaconda3\\lib\\site-packages\\scipy\\stats\\stats.py:3650: F_onewayConstantInputWarning: Each of the input arrays is constant;the F statistic is not defined or infinite\n",
      "  warnings.warn(F_onewayConstantInputWarning())\n"
     ]
    }
   ],
   "source": [
    "#F-TEST\n",
    "import pandas as pd\n",
    "import scipy.stats as stats\n",
    "\n",
    "# Group your data by a categorical column ('group_column')\n",
    "groups = df1.groupby('DALYs (Disability-Adjusted Life Years) - Mental disorders - Sex: Both - Age: All Ages (Percent)')\n",
    "\n",
    "# Perform one-way ANOVA\n",
    "f_statistic, p_value = stats.f_oneway(*[group['DALYs (Disability-Adjusted Life Years) - Mental disorders - Sex: Both - Age: All Ages (Percent)'] for name, group in groups])\n",
    "\n",
    "# Interpret the results\n",
    "if p_value < 0.05:  # You can adjust the significance level (alpha) as needed\n",
    "    print(\"Reject the null hypothesis: There is a significant difference between groups.\")\n",
    "else:\n",
    "    print(\"Fail to reject the null hypothesis: There is no significant difference between groups.\")\n"
   ]
  },
  {
   "cell_type": "code",
   "execution_count": 59,
   "id": "db416a12",
   "metadata": {},
   "outputs": [
    {
     "name": "stdout",
     "output_type": "stream",
     "text": [
      "Fail to reject the null hypothesis: There is no significant difference between groups.\n",
      "P Value: nan\n"
     ]
    }
   ],
   "source": [
    "#F-TEST\n",
    "import pandas as pd\n",
    "import scipy.stats as stats\n",
    "\n",
    "# Group your data by a categorical column ('group_column')\n",
    "groups = df2.groupby('Schizophrenia')\n",
    "\n",
    "# Perform one-way ANOVA\n",
    "f_statistic, p_value = stats.f_oneway(*[group['Schizophrenia'] for name, group in groups])\n",
    "\n",
    "# Interpret the results\n",
    "if p_value < 0.05:  # You can adjust the significance level (alpha) as needed\n",
    "    print(\"Reject the null hypothesis: There is a significant difference between groups.\")\n",
    "else:\n",
    "    print(\"Fail to reject the null hypothesis: There is no significant difference between groups.\")\n",
    "    print(f\"P Value: {p_value}\")\n"
   ]
  },
  {
   "cell_type": "code",
   "execution_count": 60,
   "id": "a873cf33",
   "metadata": {},
   "outputs": [
    {
     "name": "stdout",
     "output_type": "stream",
     "text": [
      "Fail to reject the null hypothesis: There is no significant difference between groups.\n",
      "nan\n"
     ]
    }
   ],
   "source": [
    "#F-TEST\n",
    "import pandas as pd\n",
    "import scipy.stats as stats\n",
    "\n",
    "# Group your data by a categorical column ('group_column')\n",
    "groups = df2.groupby('Bipolar disorder')\n",
    "\n",
    "# Perform one-way ANOVA\n",
    "f_statistic, p_value = stats.f_oneway(*[group['Bipolar disorder'] for name, group in groups])\n",
    "\n",
    "# Interpret the results\n",
    "if p_value < 0.05:  # You can adjust the significance level (alpha) as needed\n",
    "    print(\"Reject the null hypothesis: There is a significant difference between groups.\")\n",
    "else:\n",
    "    print(\"Fail to reject the null hypothesis: There is no significant difference between groups.\")\n"
   ]
  },
  {
   "cell_type": "code",
   "execution_count": 33,
   "id": "1e8e2620",
   "metadata": {},
   "outputs": [
    {
     "name": "stdout",
     "output_type": "stream",
     "text": [
      "Fail to reject the null hypothesis: There is no significant difference between groups.\n"
     ]
    }
   ],
   "source": [
    "#F-TEST\n",
    "import pandas as pd\n",
    "import scipy.stats as stats\n",
    "\n",
    "# Group your data by a categorical column ('group_column')\n",
    "groups = df2.groupby('Eating disorders')\n",
    "\n",
    "# Perform one-way ANOVA\n",
    "f_statistic, p_value = stats.f_oneway(*[group['Eating disorders'] for name, group in groups])\n",
    "\n",
    "# Interpret the results\n",
    "if p_value < 0.05:  # You can adjust the significance level (alpha) as needed\n",
    "    print(\"Reject the null hypothesis: There is a significant difference between groups.\")\n",
    "else:\n",
    "    print(\"Fail to reject the null hypothesis: There is no significant difference between groups.\")"
   ]
  },
  {
   "cell_type": "code",
   "execution_count": 34,
   "id": "34d6bdc0",
   "metadata": {},
   "outputs": [
    {
     "name": "stdout",
     "output_type": "stream",
     "text": [
      "Fail to reject the null hypothesis: There is no significant difference between groups.\n"
     ]
    }
   ],
   "source": [
    "#F-TEST\n",
    "\n",
    "import pandas as pd\n",
    "import scipy.stats as stats\n",
    "\n",
    "# Group your data by a categorical column ('group_column')\n",
    "groups = df2.groupby('Anxiety disorders')\n",
    "\n",
    "# Perform one-way ANOVA\n",
    "f_statistic, p_value = stats.f_oneway(*[group['Anxiety disorders'] for name, group in groups])\n",
    "\n",
    "# Interpret the results\n",
    "if p_value < 0.05:  # You can adjust the significance level (alpha) as needed\n",
    "    print(\"Reject the null hypothesis: There is a significant difference between groups.\")\n",
    "else:\n",
    "    print(\"Fail to reject the null hypothesis: There is no significant difference between groups.\")"
   ]
  },
  {
   "cell_type": "code",
   "execution_count": 35,
   "id": "4ba89ac3",
   "metadata": {},
   "outputs": [
    {
     "name": "stdout",
     "output_type": "stream",
     "text": [
      "Fail to reject the null hypothesis: There is no significant difference between groups.\n"
     ]
    }
   ],
   "source": [
    "#F-TEST\n",
    "\n",
    "import pandas as pd\n",
    "import scipy.stats as stats\n",
    "\n",
    "# Group your data by a categorical column ('group_column')\n",
    "groups = df2.groupby('Drug use disorders')\n",
    "\n",
    "# Perform one-way ANOVA\n",
    "f_statistic, p_value = stats.f_oneway(*[group['Drug use disorders'] for name, group in groups])\n",
    "\n",
    "# Interpret the results\n",
    "if p_value < 0.05:  # You can adjust the significance level (alpha) as needed\n",
    "    print(\"Reject the null hypothesis: There is a significant difference between groups.\")\n",
    "else:\n",
    "    print(\"Fail to reject the null hypothesis: There is no significant difference between groups.\")"
   ]
  },
  {
   "cell_type": "code",
   "execution_count": 36,
   "id": "55210423",
   "metadata": {},
   "outputs": [
    {
     "name": "stdout",
     "output_type": "stream",
     "text": [
      "Fail to reject the null hypothesis: There is no significant difference between groups.\n"
     ]
    }
   ],
   "source": [
    "#F-TEST\n",
    "\n",
    "import pandas as pd\n",
    "import scipy.stats as stats\n",
    "\n",
    "# Group your data by a categorical column ('group_column')\n",
    "groups = df2.groupby('Depressive disorders')\n",
    "\n",
    "# Perform one-way ANOVA\n",
    "f_statistic, p_value = stats.f_oneway(*[group['Depressive disorders'] for name, group in groups])\n",
    "\n",
    "# Interpret the results\n",
    "if p_value < 0.05:  # You can adjust the significance level (alpha) as needed\n",
    "    print(\"Reject the null hypothesis: There is a significant difference between groups.\")\n",
    "else:\n",
    "    print(\"Fail to reject the null hypothesis: There is no significant difference between groups.\")"
   ]
  },
  {
   "cell_type": "code",
   "execution_count": 37,
   "id": "7893a08a",
   "metadata": {
    "scrolled": true
   },
   "outputs": [
    {
     "name": "stdout",
     "output_type": "stream",
     "text": [
      "Fail to reject the null hypothesis: There is no significant difference between groups.\n"
     ]
    }
   ],
   "source": [
    "#F-TEST\n",
    "\n",
    "import pandas as pd\n",
    "import scipy.stats as stats\n",
    "\n",
    "# Group your data by a categorical column ('group_column')\n",
    "groups = df2.groupby('Alcohol use disorders')\n",
    "\n",
    "# Perform one-way ANOVA\n",
    "f_statistic, p_value = stats.f_oneway(*[group['Alcohol use disorders'] for name, group in groups])\n",
    "\n",
    "# Interpret the results\n",
    "if p_value < 0.05:  # You can adjust the significance level (alpha) as needed\n",
    "    print(\"Reject the null hypothesis: There is a significant difference between groups.\")\n",
    "else:\n",
    "    print(\"Fail to reject the null hypothesis: There is no significant difference between groups.\")"
   ]
  },
  {
   "cell_type": "code",
   "execution_count": 38,
   "id": "45b5c67d",
   "metadata": {},
   "outputs": [
    {
     "name": "stdout",
     "output_type": "stream",
     "text": [
      "Fail to reject the null hypothesis: There is no significant difference between the groups.\n"
     ]
    }
   ],
   "source": [
    "import pandas as pd\n",
    "import scipy.stats as stats\n",
    "\n",
    "\n",
    "# Separate your data into two groups (e.g., 'group1' and 'group2')\n",
    "group1 = df1[df1['DALYs (Disability-Adjusted Life Years) - Mental disorders - Sex: Both - Age: All Ages (Percent)'] == 'group1']['DALYs (Disability-Adjusted Life Years) - Mental disorders - Sex: Both - Age: All Ages (Percent)']\n",
    "group2 = df1[df1['DALYs (Disability-Adjusted Life Years) - Mental disorders - Sex: Both - Age: All Ages (Percent)'] == 'group2']['DALYs (Disability-Adjusted Life Years) - Mental disorders - Sex: Both - Age: All Ages (Percent)']\n",
    "\n",
    "# Perform independent t-test\n",
    "t_statistic, p_value = stats.ttest_ind(group1, group2)\n",
    "\n",
    "# Interpret the results\n",
    "if p_value < 0.05:  # You can adjust the significance level (alpha) as needed\n",
    "    print(\"Reject the null hypothesis: There is a significant difference between the groups.\")\n",
    "else:\n",
    "    print(\"Fail to reject the null hypothesis: There is no significant difference between the groups.\")\n"
   ]
  },
  {
   "cell_type": "code",
   "execution_count": 39,
   "id": "601fd811",
   "metadata": {},
   "outputs": [
    {
     "name": "stdout",
     "output_type": "stream",
     "text": [
      "Fail to reject the null hypothesis: There is no significant difference between the groups.\n"
     ]
    }
   ],
   "source": [
    "import pandas as pd\n",
    "import scipy.stats as stats\n",
    "\n",
    "\n",
    "# Separate your data into two groups (e.g., 'group1' and 'group2')\n",
    "group1 = df2[df2['Eating disorders'] == 'group1']['Eating disorders']\n",
    "group2 = df2[df2['Alcohol use disorders'] == 'group2']['Alcohol use disorders']\n",
    "\n",
    "# Perform independent t-test\n",
    "t_statistic, p_value = stats.ttest_ind(group1, group2)\n",
    "\n",
    "# Interpret the results\n",
    "if p_value < 0.05:  # You can adjust the significance level (alpha) as needed\n",
    "    print(\"Reject the null hypothesis: There is a significant difference between the groups.\")\n",
    "else:\n",
    "    print(\"Fail to reject the null hypothesis: There is no significant difference between the groups.\")\n"
   ]
  },
  {
   "cell_type": "code",
   "execution_count": 40,
   "id": "e8975582",
   "metadata": {},
   "outputs": [
    {
     "name": "stdout",
     "output_type": "stream",
     "text": [
      "Fail to reject the null hypothesis: There is no significant association between the variables.\n"
     ]
    }
   ],
   "source": [
    "import pandas as pd\n",
    "import scipy.stats as stats\n",
    "\n",
    "\n",
    "# Create a contingency table (cross-tabulation) of two categorical columns\n",
    "contingency_table = pd.crosstab(df1['DALYs (Disability-Adjusted Life Years) - Mental disorders - Sex: Both - Age: All Ages (Percent)'], df2['Eating disorders'])\n",
    "\n",
    "# Perform chi-square test\n",
    "chi2_stat, p_value, dof, expected = stats.chi2_contingency(contingency_table)\n",
    "\n",
    "# Interpret the results\n",
    "if p_value < 0.05:  # You can adjust the significance level (alpha) as needed\n",
    "    print(\"Reject the null hypothesis: There is a significant association between the variables.\")\n",
    "else:\n",
    "    print(\"Fail to reject the null hypothesis: There is no significant association between the variables.\")\n"
   ]
  },
  {
   "cell_type": "code",
   "execution_count": 63,
   "id": "154bd012",
   "metadata": {
    "scrolled": true
   },
   "outputs": [
    {
     "name": "stdout",
     "output_type": "stream",
     "text": [
      "      Year  Predicted DALYs\n",
      "0     1990         4.056309\n",
      "1     1991         4.108844\n",
      "2     1992         4.161380\n",
      "3     1993         4.213915\n",
      "4     1994         4.266450\n",
      "...    ...              ...\n",
      "6835  2015         5.369690\n",
      "6836  2016         5.422226\n",
      "6837  2017         5.474761\n",
      "6838  2018         5.527296\n",
      "6839  2019         5.579831\n",
      "\n",
      "[6840 rows x 2 columns]\n",
      "Root Mean Square Error (RMSE): 2.2483754263990314\n"
     ]
    }
   ],
   "source": [
    "import pandas as pd\n",
    "from sklearn.linear_model import LinearRegression\n",
    "from sklearn.metrics import mean_squared_error\n",
    "import numpy as np\n",
    "\n",
    "# Define your features (X) and target variable (y)\n",
    "X = df1[['Year']]\n",
    "Y = df1['DALYs (Disability-Adjusted Life Years) - Mental disorders - Sex: Both - Age: All Ages (Percent)']\n",
    "\n",
    "# Create and fit a linear regression model\n",
    "model = LinearRegression()\n",
    "model.fit(X, Y)\n",
    "\n",
    "# Make predictions\n",
    "predictions = model.predict(X)\n",
    "\n",
    "# Output predictions\n",
    "output = pd.DataFrame({'Year': df1['Year'], 'Predicted DALYs': predictions})\n",
    "print(output)\n",
    "\n",
    "# Calculate RMSE\n",
    "rmse = np.sqrt(mean_squared_error(Y, predictions))\n",
    "print(f'Root Mean Square Error (RMSE): {rmse}')"
   ]
  },
  {
   "cell_type": "code",
   "execution_count": 65,
   "id": "774cfaa8",
   "metadata": {},
   "outputs": [
    {
     "name": "stdout",
     "output_type": "stream",
     "text": [
      "Accuracy: 1.0\n",
      "F1 Score: 1.0\n"
     ]
    }
   ],
   "source": [
    "# import pandas as pd\n",
    "# from sklearn.linear_model import LogisticRegression\n",
    "\n",
    "# # Define your features (X) and binary target variable (y)\n",
    "# X = df3[['Year']]  # Include relevant predictor columns\n",
    "# y = df3['DALY Boolean']\n",
    "\n",
    "# # Create and fit a logistic regression model\n",
    "# model = LogisticRegression()\n",
    "# model.fit(X, y)\n",
    "\n",
    "# # Make predictions\n",
    "# predictions = model.predict(X)\n",
    "\n",
    "# # Evaluate your model as needed\n",
    "\n",
    "# from sklearn.metrics import accuracy_score, f1_score\n",
    "\n",
    "# # Calculate accuracy\n",
    "# accuracy = accuracy_score(y, predictions)\n",
    "\n",
    "# # Calculate F1 score\n",
    "# f1 = f1_score(y, predictions)\n",
    "\n",
    "# print(f\"Accuracy: {accuracy}\")\n",
    "# print(f\"F1 Score: {f1}\")\n",
    "\n",
    "from sklearn.model_selection import train_test_split\n",
    "from sklearn.linear_model import LogisticRegression\n",
    "from sklearn.metrics import accuracy_score, f1_score\n",
    "import pandas as pd\n",
    "\n",
    "X = df3.drop(columns=['Entity','Code'])  # Drop the target column to get features\n",
    "y = df3['DALY Boolean']\n",
    "\n",
    "# Assuming 'X' is your feature matrix and 'y' is your target variable\n",
    "# Split the dataset into training and testing sets (change test_size as needed)\n",
    "X_train, X_test, y_train, y_test = train_test_split(X, y, test_size=0.2, random_state=42)\n",
    "\n",
    "# Create and train the logistic regression model\n",
    "log_reg = LogisticRegression()\n",
    "log_reg.fit(X_train, y_train)\n",
    "\n",
    "# Make predictions on the test set\n",
    "y_pred = log_reg.predict(X_test)\n",
    "\n",
    "# Calculate accuracy\n",
    "accuracy = accuracy_score(y_test, y_pred)\n",
    "\n",
    "# Calculate F1 score\n",
    "f1 = f1_score(y_test, y_pred)\n",
    "\n",
    "# Print accuracy and F1 score\n",
    "print(f'Accuracy: {accuracy}')\n",
    "print(f'F1 Score: {f1}')\n",
    "\n"
   ]
  },
  {
   "cell_type": "code",
   "execution_count": 43,
   "id": "bf262c05",
   "metadata": {
    "scrolled": true
   },
   "outputs": [
    {
     "name": "stdout",
     "output_type": "stream",
     "text": [
      "Accuracy: 0.7624269005847953\n",
      "F1 Score: 0.8652011613438408\n"
     ]
    }
   ],
   "source": [
    "# import pandas as pd\n",
    "# from sklearn.tree import DecisionTreeRegressor\n",
    "\n",
    "\n",
    "# # Define your features (X) and target variable (y)\n",
    "# X = df1[['Year']]\n",
    "# y = df1['DALYs (Disability-Adjusted Life Years) - Mental disorders - Sex: Both - Age: All Ages (Percent)']\n",
    "\n",
    "# # Create and fit a decision tree model\n",
    "# model = DecisionTreeRegressor()\n",
    "# model.fit(X, y)\n",
    "\n",
    "# # Make predictions\n",
    "# predictions = model.predict(X)\n",
    "\n",
    "# # Output predictions\n",
    "# output = pd.DataFrame({'Year': df1['Year'], 'Predicted DALYs': predictions})\n",
    "# print(output)\n",
    "\n",
    "from sklearn.tree import DecisionTreeClassifier\n",
    "from sklearn.metrics import accuracy_score, f1_score\n",
    "from sklearn.model_selection import train_test_split\n",
    "\n",
    "# Define your features (X) and binary target variable (y)\n",
    "X = df3[['Year']]  # Include relevant predictor columns\n",
    "y = df3['DALY Boolean']\n",
    "\n",
    "# Split the data into training and testing sets\n",
    "X_train, X_test, y_train, y_test = train_test_split(X, y, test_size=0.2, random_state=42)\n",
    "\n",
    "# Create and fit a decision tree classifier\n",
    "model = DecisionTreeClassifier()\n",
    "model.fit(X_train, y_train)\n",
    "\n",
    "# Make predictions on the test set\n",
    "predictions = model.predict(X_test)\n",
    "\n",
    "# Calculate accuracy\n",
    "accuracy = accuracy_score(y_test, predictions)\n",
    "\n",
    "# Calculate F1 score\n",
    "f1 = f1_score(y_test, predictions)\n",
    "\n",
    "print(f\"Accuracy: {accuracy}\")\n",
    "print(f\"F1 Score: {f1}\")\n"
   ]
  },
  {
   "cell_type": "code",
   "execution_count": 44,
   "id": "f22ba875",
   "metadata": {},
   "outputs": [
    {
     "name": "stdout",
     "output_type": "stream",
     "text": [
      "   Year  Linear Regression - Schizophrenia  \\\n",
      "0  2013                            0.28317   \n",
      "\n",
      "   Linear Regression - Bipolar Disorder  Linear Regression - Eating Disorders  \\\n",
      "0                              0.728538                              0.245241   \n",
      "\n",
      "   Linear Regression - Anxiety Disorders  \\\n",
      "0                               4.410461   \n",
      "\n",
      "   Linear Regression - Drug Use Disorders  \\\n",
      "0                                0.720545   \n",
      "\n",
      "   Linear Regression - Depressive Disorders  \\\n",
      "0                                    3.8091   \n",
      "\n",
      "   Linear Regression - Alcohol Use Disorders  Decision Tree - Schizophrenia  \\\n",
      "0                                   1.603928                       0.283464   \n",
      "\n",
      "   Decision Tree - Bipolar Disorder  ...  Random Forest - Drug Use Disorders  \\\n",
      "0                          0.728996  ...                            0.714017   \n",
      "\n",
      "   Random Forest - Depressive Disorders  \\\n",
      "0                              3.792041   \n",
      "\n",
      "   Random Forest - Alcohol Use Disorders  K-Nearest Neighbors - Schizophrenia  \\\n",
      "0                               1.620623                             0.254696   \n",
      "\n",
      "   K-Nearest Neighbors - Bipolar Disorder  \\\n",
      "0                                 0.68666   \n",
      "\n",
      "   K-Nearest Neighbors - Eating Disorders  \\\n",
      "0                                0.204958   \n",
      "\n",
      "   K-Nearest Neighbors - Anxiety Disorders  \\\n",
      "0                                 3.929287   \n",
      "\n",
      "   K-Nearest Neighbors - Drug Use Disorders  \\\n",
      "0                                  0.630009   \n",
      "\n",
      "   K-Nearest Neighbors - Depressive Disorders  \\\n",
      "0                                    4.145511   \n",
      "\n",
      "   K-Nearest Neighbors - Alcohol Use Disorders  \n",
      "0                                     0.948635  \n",
      "\n",
      "[1 rows x 29 columns]\n"
     ]
    }
   ],
   "source": [
    "import pandas as pd\n",
    "from sklearn.linear_model import LinearRegression\n",
    "from sklearn.linear_model import LogisticRegression\n",
    "from sklearn.tree import DecisionTreeRegressor\n",
    "from sklearn.ensemble import RandomForestRegressor\n",
    "from sklearn.neighbors import KNeighborsRegressor\n",
    "\n",
    "\n",
    "# Define your features (X) and target variables (y)\n",
    "X = df2[['Year']]\n",
    "y_schizophrenia = df2['Schizophrenia']\n",
    "y_bipolar = df2['Bipolar disorder']\n",
    "y_eating_disorders = df2['Eating disorders']\n",
    "y_anxiety_disorders = df2['Anxiety disorders']\n",
    "y_drug_use_disorders = df2['Drug use disorders']\n",
    "y_depressive_disorders = df2['Depressive disorders']\n",
    "y_alcohol_use_disorders = df2['Alcohol use disorders']\n",
    "\n",
    "# Create and fit Linear Regression models\n",
    "lr_schizophrenia = LinearRegression().fit(X, y_schizophrenia)\n",
    "lr_bipolar = LinearRegression().fit(X, y_bipolar)\n",
    "lr_eating_disorders = LinearRegression().fit(X, y_eating_disorders)\n",
    "lr_anxiety_disorders = LinearRegression().fit(X, y_anxiety_disorders)\n",
    "lr_drug_use_disorders = LinearRegression().fit(X, y_drug_use_disorders)\n",
    "lr_depressive_disorders = LinearRegression().fit(X, y_depressive_disorders)\n",
    "lr_alcohol_use_disorders = LinearRegression().fit(X, y_alcohol_use_disorders)\n",
    "\n",
    "# Create and fit Decision Tree models\n",
    "dt_schizophrenia = DecisionTreeRegressor().fit(X, y_schizophrenia)\n",
    "dt_bipolar = DecisionTreeRegressor().fit(X, y_bipolar)\n",
    "dt_eating_disorders = DecisionTreeRegressor().fit(X, y_eating_disorders)\n",
    "dt_anxiety_disorders = DecisionTreeRegressor().fit(X, y_anxiety_disorders)\n",
    "dt_drug_use_disorders = DecisionTreeRegressor().fit(X, y_drug_use_disorders)\n",
    "dt_depressive_disorders = DecisionTreeRegressor().fit(X, y_depressive_disorders)\n",
    "dt_alcohol_use_disorders = DecisionTreeRegressor().fit(X, y_alcohol_use_disorders)\n",
    "\n",
    "# Create and fit Random Forest models\n",
    "rf_schizophrenia = RandomForestRegressor().fit(X, y_schizophrenia)\n",
    "rf_bipolar = RandomForestRegressor().fit(X, y_bipolar)\n",
    "rf_eating_disorders = RandomForestRegressor().fit(X, y_eating_disorders)\n",
    "rf_anxiety_disorders = RandomForestRegressor().fit(X, y_anxiety_disorders)\n",
    "rf_drug_use_disorders = RandomForestRegressor().fit(X, y_drug_use_disorders)\n",
    "rf_depressive_disorders = RandomForestRegressor().fit(X, y_depressive_disorders)\n",
    "rf_alcohol_use_disorders = RandomForestRegressor().fit(X, y_alcohol_use_disorders)\n",
    "\n",
    "# Create and fit K-Nearest Neighbors (K-NN) models\n",
    "knn_schizophrenia = KNeighborsRegressor().fit(X, y_schizophrenia)\n",
    "knn_bipolar = KNeighborsRegressor().fit(X, y_bipolar)\n",
    "knn_eating_disorders = KNeighborsRegressor().fit(X, y_eating_disorders)\n",
    "knn_anxiety_disorders = KNeighborsRegressor().fit(X, y_anxiety_disorders)\n",
    "knn_drug_use_disorders = KNeighborsRegressor().fit(X, y_drug_use_disorders)\n",
    "knn_depressive_disorders = KNeighborsRegressor().fit(X, y_depressive_disorders)\n",
    "knn_alcohol_use_disorders = KNeighborsRegressor().fit(X, y_alcohol_use_disorders)\n",
    "\n",
    "# Make predictions for the year 2013 (you can change this year as needed)\n",
    "year_to_predict = 2013\n",
    "predicted_values = {\n",
    "    'Year': [year_to_predict],\n",
    "    'Linear Regression - Schizophrenia': [lr_schizophrenia.predict([[year_to_predict]])[0]],\n",
    "    'Linear Regression - Bipolar Disorder': [lr_bipolar.predict([[year_to_predict]])[0]],\n",
    "    'Linear Regression - Eating Disorders': [lr_eating_disorders.predict([[year_to_predict]])[0]],\n",
    "    'Linear Regression - Anxiety Disorders': [lr_anxiety_disorders.predict([[year_to_predict]])[0]],\n",
    "    'Linear Regression - Drug Use Disorders': [lr_drug_use_disorders.predict([[year_to_predict]])[0]],\n",
    "    'Linear Regression - Depressive Disorders': [lr_depressive_disorders.predict([[year_to_predict]])[0]],\n",
    "    'Linear Regression - Alcohol Use Disorders': [lr_alcohol_use_disorders.predict([[year_to_predict]])[0]],\n",
    "    'Decision Tree - Schizophrenia': [dt_schizophrenia.predict([[year_to_predict]])[0]],\n",
    "    'Decision Tree - Bipolar Disorder': [dt_bipolar.predict([[year_to_predict]])[0]],\n",
    "    'Decision Tree - Eating Disorders': [dt_eating_disorders.predict([[year_to_predict]])[0]],\n",
    "    'Decision Tree - Anxiety Disorders': [dt_anxiety_disorders.predict([[year_to_predict]])[0]],\n",
    "    'Decision Tree - Drug Use Disorders': [dt_drug_use_disorders.predict([[year_to_predict]])[0]],\n",
    "    'Decision Tree - Depressive Disorders': [dt_depressive_disorders.predict([[year_to_predict]])[0]],\n",
    "    'Decision Tree - Alcohol Use Disorders': [dt_alcohol_use_disorders.predict([[year_to_predict]])[0]],\n",
    "    'Random Forest - Schizophrenia': [rf_schizophrenia.predict([[year_to_predict]])[0]],\n",
    "    'Random Forest - Bipolar Disorder': [rf_bipolar.predict([[year_to_predict]])[0]],\n",
    "    'Random Forest - Eating Disorders': [rf_eating_disorders.predict([[year_to_predict]])[0]],\n",
    "    'Random Forest - Anxiety Disorders': [rf_anxiety_disorders.predict([[year_to_predict]])[0]],\n",
    "    'Random Forest - Drug Use Disorders': [rf_drug_use_disorders.predict([[year_to_predict]])[0]],\n",
    "    'Random Forest - Depressive Disorders': [rf_depressive_disorders.predict([[year_to_predict]])[0]],\n",
    "    'Random Forest - Alcohol Use Disorders': [rf_alcohol_use_disorders.predict([[year_to_predict]])[0]],\n",
    "    'K-Nearest Neighbors - Schizophrenia': [knn_schizophrenia.predict([[year_to_predict]])[0]],\n",
    "    'K-Nearest Neighbors - Bipolar Disorder': [knn_bipolar.predict([[year_to_predict]])[0]],\n",
    "    'K-Nearest Neighbors - Eating Disorders': [knn_eating_disorders.predict([[year_to_predict]])[0]],\n",
    "    'K-Nearest Neighbors - Anxiety Disorders': [knn_anxiety_disorders.predict([[year_to_predict]])[0]],\n",
    "    'K-Nearest Neighbors - Drug Use Disorders': [knn_drug_use_disorders.predict([[year_to_predict]])[0]],\n",
    "    'K-Nearest Neighbors - Depressive Disorders': [knn_depressive_disorders.predict([[year_to_predict]])[0]],\n",
    "    'K-Nearest Neighbors - Alcohol Use Disorders': [knn_alcohol_use_disorders.predict([[year_to_predict]])[0]]\n",
    "}\n",
    "\n",
    "# Create a DataFrame for the predictions\n",
    "predicted_df = pd.DataFrame(predicted_values)\n",
    "print(predicted_df)\n"
   ]
  },
  {
   "cell_type": "code",
   "execution_count": 45,
   "id": "bb34543b",
   "metadata": {
    "scrolled": true
   },
   "outputs": [
    {
     "name": "stdout",
     "output_type": "stream",
     "text": [
      "   Year  Linear Regression - Schizophrenia  \\\n",
      "0  2013                            0.28317   \n",
      "\n",
      "   Linear Regression - Bipolar Disorder  Linear Regression - Eating Disorders  \\\n",
      "0                              0.728538                              0.245241   \n",
      "\n",
      "   Linear Regression - Anxiety Disorders  \\\n",
      "0                               4.410461   \n",
      "\n",
      "   Linear Regression - Drug Use Disorders  \\\n",
      "0                                0.720545   \n",
      "\n",
      "   Linear Regression - Depressive Disorders  \\\n",
      "0                                    3.8091   \n",
      "\n",
      "   Linear Regression - Alcohol Use Disorders  \n",
      "0                                   1.603928  \n"
     ]
    }
   ],
   "source": [
    "import pandas as pd\n",
    "from sklearn.linear_model import LinearRegression\n",
    "# Define your features (X) and target variables (y)\n",
    "X = df2[['Year']]\n",
    "y_schizophrenia = df2['Schizophrenia']\n",
    "y_bipolar = df2['Bipolar disorder']\n",
    "y_eating_disorders = df2['Eating disorders']\n",
    "y_anxiety_disorders = df2['Anxiety disorders']\n",
    "y_drug_use_disorders = df2['Drug use disorders']\n",
    "y_depressive_disorders = df2['Depressive disorders']\n",
    "y_alcohol_use_disorders = df2['Alcohol use disorders']\n",
    "\n",
    "# Create and fit Linear Regression models\n",
    "lr_schizophrenia = LinearRegression().fit(X, y_schizophrenia)\n",
    "lr_bipolar = LinearRegression().fit(X, y_bipolar)\n",
    "lr_eating_disorders = LinearRegression().fit(X, y_eating_disorders)\n",
    "lr_anxiety_disorders = LinearRegression().fit(X, y_anxiety_disorders)\n",
    "lr_drug_use_disorders = LinearRegression().fit(X, y_drug_use_disorders)\n",
    "lr_depressive_disorders = LinearRegression().fit(X, y_depressive_disorders)\n",
    "lr_alcohol_use_disorders = LinearRegression().fit(X, y_alcohol_use_disorders)\n",
    "\n",
    "\n",
    "# Make predictions for the year 2013 (you can change this year as needed)\n",
    "year_to_predict = 2013\n",
    "predicted_values = {\n",
    "    'Year': [year_to_predict],\n",
    "    'Linear Regression - Schizophrenia': [lr_schizophrenia.predict([[year_to_predict]])[0]],\n",
    "    'Linear Regression - Bipolar Disorder': [lr_bipolar.predict([[year_to_predict]])[0]],\n",
    "    'Linear Regression - Eating Disorders': [lr_eating_disorders.predict([[year_to_predict]])[0]],\n",
    "    'Linear Regression - Anxiety Disorders': [lr_anxiety_disorders.predict([[year_to_predict]])[0]],\n",
    "    'Linear Regression - Drug Use Disorders': [lr_drug_use_disorders.predict([[year_to_predict]])[0]],\n",
    "    'Linear Regression - Depressive Disorders': [lr_depressive_disorders.predict([[year_to_predict]])[0]],\n",
    "    'Linear Regression - Alcohol Use Disorders': [lr_alcohol_use_disorders.predict([[year_to_predict]])[0]],\n",
    "    }\n",
    "\n",
    "# Create a DataFrame for the predictions\n",
    "predicted_df = pd.DataFrame(predicted_values)\n",
    "print(predicted_df)\n"
   ]
  },
  {
   "cell_type": "code",
   "execution_count": 46,
   "id": "45d6f41d",
   "metadata": {},
   "outputs": [
    {
     "name": "stdout",
     "output_type": "stream",
     "text": [
      "   Year  Logistic Regression - Schizophrenia  \\\n",
      "0  2013                                 True   \n",
      "\n",
      "   Logistic Regression - Bipolar Disorder  \\\n",
      "0                                    True   \n",
      "\n",
      "   Logistic Regression - Eating Disorder  \\\n",
      "0                                  False   \n",
      "\n",
      "   Logistic Regression - Anxiety Disorder  \\\n",
      "0                                    True   \n",
      "\n",
      "   Logistic Regression - Drug Use Disorders  \\\n",
      "0                                     False   \n",
      "\n",
      "   Logistic Regression - Depressive Disorder  \\\n",
      "0                                       True   \n",
      "\n",
      "   Logistic Regression - Alcohol Disorder  \n",
      "0                                    True  \n"
     ]
    }
   ],
   "source": [
    "import pandas as pd\n",
    "from sklearn.linear_model import LogisticRegression\n",
    "\n",
    "\n",
    "# Define your features (X) and target variables (y)\n",
    "X = df4[['Year']]\n",
    "y_schizophrenia = df4['Schizophrenia Boolean']\n",
    "y_bipolar = df4['Bipolar Boolean']\n",
    "y_eating_disorders = df4['Eating Boolean']\n",
    "y_anxiety_disorders = df4['Anxiety Boolean']\n",
    "y_drug_use_disorders = df4['Drug Use Boolean']\n",
    "y_depressive_disorders = df4['Depressive Boolean']\n",
    "y_alcohol_use_disorders = df4['Alcohol Use Boolean']\n",
    "\n",
    "# Create and fit Decision Tree models\n",
    "logistic_schizophrenia =LogisticRegression().fit(X, y_schizophrenia)\n",
    "logistic_bipolar = LogisticRegression().fit(X, y_bipolar)\n",
    "logistic_eating_disorders = LogisticRegression().fit(X, y_eating_disorders)\n",
    "logistic_anxiety_disorders = LogisticRegression().fit(X, y_anxiety_disorders)\n",
    "logistic_drug_use_disorders = LogisticRegression().fit(X, y_drug_use_disorders)\n",
    "logistic_depressive_disorders = LogisticRegression().fit(X, y_depressive_disorders)\n",
    "logistic_alcohol_use_disorders = LogisticRegression().fit(X, y_alcohol_use_disorders)\n",
    "\n",
    "\n",
    "# Make predictions for the year 2013 (you can change this year as needed)\n",
    "year_to_predict = 2013\n",
    "predicted_values = {\n",
    "    'Year': [year_to_predict],\n",
    "    'Logistic Regression - Schizophrenia': [logistic_schizophrenia.predict([[year_to_predict]])[0]],\n",
    "    'Logistic Regression - Bipolar Disorder': [logistic_bipolar.predict([[year_to_predict]])[0]],\n",
    "    'Logistic Regression - Eating Disorder': [logistic_eating_disorders.predict([[year_to_predict]])[0]],\n",
    "    'Logistic Regression - Anxiety Disorder': [logistic_anxiety_disorders.predict([[year_to_predict]])[0]],\n",
    "    'Logistic Regression - Drug Use Disorders': [logistic_drug_use_disorders.predict([[year_to_predict]])[0]],\n",
    "    'Logistic Regression - Depressive Disorder': [logistic_depressive_disorders.predict([[year_to_predict]])[0]],\n",
    "    'Logistic Regression - Alcohol Disorder': [logistic_alcohol_use_disorders.predict([[year_to_predict]])[0]],\n",
    "}\n",
    "\n",
    "# Create a DataFrame for the predictions\n",
    "predicted_df4 = pd.DataFrame(predicted_values)\n",
    "print(predicted_df4)\n"
   ]
  },
  {
   "cell_type": "code",
   "execution_count": 47,
   "id": "8bef22b1",
   "metadata": {},
   "outputs": [
    {
     "name": "stdout",
     "output_type": "stream",
     "text": [
      "   Year  Logistic Regression - Schizophrenia  \\\n",
      "0  2013                             0.283464   \n",
      "\n",
      "   Logistic Regression - Bipolar Disorder  \\\n",
      "0                                0.728996   \n",
      "\n",
      "   Logistic Regression - Eating Disorders  \\\n",
      "0                                0.247316   \n",
      "\n",
      "   Logistic Regression - Anxiety Disorders  \\\n",
      "0                                   4.4077   \n",
      "\n",
      "   Logistic Regression - Drug Use Disorders  \\\n",
      "0                                  0.723537   \n",
      "\n",
      "   Logistic Regression - Depressive Disorders  \\\n",
      "0                                    3.790207   \n",
      "\n",
      "   Logistic Regression - Alcohol Use Disorders  \n",
      "0                                     1.605252  \n"
     ]
    }
   ],
   "source": [
    "import pandas as pd\n",
    "from sklearn.linear_model import LinearRegression\n",
    "from sklearn.linear_model import LogisticRegression\n",
    "from sklearn.tree import DecisionTreeRegressor\n",
    "from sklearn.ensemble import RandomForestRegressor\n",
    "from sklearn.neighbors import KNeighborsRegressor\n",
    "\n",
    "\n",
    "# Define your features (X) and target variables (y)\n",
    "X = df2[['Year']]\n",
    "y_schizophrenia = df2['Schizophrenia']\n",
    "y_bipolar = df2['Bipolar disorder']\n",
    "y_eating_disorders = df2['Eating disorders']\n",
    "y_anxiety_disorders = df2['Anxiety disorders']\n",
    "y_drug_use_disorders = df2['Drug use disorders']\n",
    "y_depressive_disorders = df2['Depressive disorders']\n",
    "y_alcohol_use_disorders = df2['Alcohol use disorders']\n",
    "\n",
    "\n",
    "# Create and fit Decision Tree models\n",
    "dt_schizophrenia = DecisionTreeRegressor().fit(X, y_schizophrenia)\n",
    "dt_bipolar = DecisionTreeRegressor().fit(X, y_bipolar)\n",
    "dt_eating_disorders = DecisionTreeRegressor().fit(X, y_eating_disorders)\n",
    "dt_anxiety_disorders = DecisionTreeRegressor().fit(X, y_anxiety_disorders)\n",
    "dt_drug_use_disorders = DecisionTreeRegressor().fit(X, y_drug_use_disorders)\n",
    "dt_depressive_disorders = DecisionTreeRegressor().fit(X, y_depressive_disorders)\n",
    "dt_alcohol_use_disorders = DecisionTreeRegressor().fit(X, y_alcohol_use_disorders)\n",
    "\n",
    "# Make predictions for the year 2013 (you can change this year as needed)\n",
    "year_to_predict = 2013\n",
    "predicted_values = {\n",
    "    'Year': [year_to_predict],\n",
    "    'Logistic Regression - Schizophrenia': [dt_schizophrenia.predict([[year_to_predict]])[0]],\n",
    "    'Logistic Regression - Bipolar Disorder': [dt_bipolar.predict([[year_to_predict]])[0]],\n",
    "    'Logistic Regression - Eating Disorders': [dt_eating_disorders.predict([[year_to_predict]])[0]],\n",
    "    'Logistic Regression - Anxiety Disorders': [dt_anxiety_disorders.predict([[year_to_predict]])[0]],\n",
    "    'Logistic Regression - Drug Use Disorders': [dt_drug_use_disorders.predict([[year_to_predict]])[0]],\n",
    "    'Logistic Regression - Depressive Disorders': [dt_depressive_disorders.predict([[year_to_predict]])[0]],\n",
    "    'Logistic Regression - Alcohol Use Disorders': [dt_alcohol_use_disorders.predict([[year_to_predict]])[0]],\n",
    "}\n",
    "\n",
    "# Create a DataFrame for the predictions\n",
    "predicted_df = pd.DataFrame(predicted_values)\n",
    "print(predicted_df)\n"
   ]
  },
  {
   "cell_type": "code",
   "execution_count": 48,
   "id": "b135e892",
   "metadata": {},
   "outputs": [
    {
     "name": "stdout",
     "output_type": "stream",
     "text": [
      "   Year  Random Forest - Schizophrenia  Random Forest - Bipolar Disorder  \\\n",
      "0  2013                       0.284163                          0.727096   \n",
      "\n",
      "   Random Forest - Eating Disorders  Random Forest - Anxiety Disorders  \\\n",
      "0                          0.248183                           4.378932   \n",
      "\n",
      "   Random Forest - Drug Use Disorders  Random Forest - Depressive Disorders  \\\n",
      "0                            0.720388                              3.800524   \n",
      "\n",
      "   Random Forest - Alcohol Use Disorders  \n",
      "0                               1.602471  \n"
     ]
    }
   ],
   "source": [
    "import pandas as pd\n",
    "from sklearn.linear_model import LinearRegression\n",
    "from sklearn.linear_model import LogisticRegression\n",
    "from sklearn.tree import DecisionTreeRegressor\n",
    "from sklearn.ensemble import RandomForestRegressor\n",
    "from sklearn.neighbors import KNeighborsRegressor\n",
    "\n",
    "# Define your features (X) and target variables (y)\n",
    "X = df2[['Year']]\n",
    "y_schizophrenia = df2['Schizophrenia']\n",
    "y_bipolar = df2['Bipolar disorder']\n",
    "y_eating_disorders = df2['Eating disorders']\n",
    "y_anxiety_disorders = df2['Anxiety disorders']\n",
    "y_drug_use_disorders = df2['Drug use disorders']\n",
    "y_depressive_disorders = df2['Depressive disorders']\n",
    "y_alcohol_use_disorders = df2['Alcohol use disorders']\n",
    "\n",
    "# Create and fit Random Forest models\n",
    "rf_schizophrenia = RandomForestRegressor().fit(X, y_schizophrenia)\n",
    "rf_bipolar = RandomForestRegressor().fit(X, y_bipolar)\n",
    "rf_eating_disorders = RandomForestRegressor().fit(X, y_eating_disorders)\n",
    "rf_anxiety_disorders = RandomForestRegressor().fit(X, y_anxiety_disorders)\n",
    "rf_drug_use_disorders = RandomForestRegressor().fit(X, y_drug_use_disorders)\n",
    "rf_depressive_disorders = RandomForestRegressor().fit(X, y_depressive_disorders)\n",
    "rf_alcohol_use_disorders = RandomForestRegressor().fit(X, y_alcohol_use_disorders)\n",
    "\n",
    "\n",
    "# Make predictions for the year 2013 (you can change this year as needed)\n",
    "year_to_predict = 2013\n",
    "predicted_values = {\n",
    "    'Year': [year_to_predict],\n",
    "    'Random Forest - Schizophrenia': [rf_schizophrenia.predict([[year_to_predict]])[0]],\n",
    "    'Random Forest - Bipolar Disorder': [rf_bipolar.predict([[year_to_predict]])[0]],\n",
    "    'Random Forest - Eating Disorders': [rf_eating_disorders.predict([[year_to_predict]])[0]],\n",
    "    'Random Forest - Anxiety Disorders': [rf_anxiety_disorders.predict([[year_to_predict]])[0]],\n",
    "    'Random Forest - Drug Use Disorders': [rf_drug_use_disorders.predict([[year_to_predict]])[0]],\n",
    "    'Random Forest - Depressive Disorders': [rf_depressive_disorders.predict([[year_to_predict]])[0]],\n",
    "    'Random Forest - Alcohol Use Disorders': [rf_alcohol_use_disorders.predict([[year_to_predict]])[0]],\n",
    "   }\n",
    "\n",
    "# Create a DataFrame for the predictions\n",
    "predicted_df = pd.DataFrame(predicted_values)\n",
    "print(predicted_df)\n"
   ]
  },
  {
   "cell_type": "code",
   "execution_count": 49,
   "id": "676dd097",
   "metadata": {},
   "outputs": [
    {
     "name": "stdout",
     "output_type": "stream",
     "text": [
      "   Year  K-Nearest Neighbors - Schizophrenia  \\\n",
      "0  2013                             0.254696   \n",
      "\n",
      "   K-Nearest Neighbors - Bipolar Disorder  \\\n",
      "0                                 0.68666   \n",
      "\n",
      "   K-Nearest Neighbors - Eating Disorders  \\\n",
      "0                                0.204958   \n",
      "\n",
      "   K-Nearest Neighbors - Anxiety Disorders  \\\n",
      "0                                 3.929287   \n",
      "\n",
      "   K-Nearest Neighbors - Drug Use Disorders  \\\n",
      "0                                  0.630009   \n",
      "\n",
      "   K-Nearest Neighbors - Depressive Disorders  \\\n",
      "0                                    4.145511   \n",
      "\n",
      "   K-Nearest Neighbors - Alcohol Use Disorders  \n",
      "0                                     0.948635  \n"
     ]
    }
   ],
   "source": [
    "import pandas as pd\n",
    "from sklearn.linear_model import LinearRegression\n",
    "from sklearn.linear_model import LogisticRegression\n",
    "from sklearn.tree import DecisionTreeRegressor\n",
    "from sklearn.ensemble import RandomForestRegressor\n",
    "from sklearn.neighbors import KNeighborsRegressor\n",
    "\n",
    "\n",
    "# Define your features (X) and target variables (y)\n",
    "X = df2[['Year']]\n",
    "y_schizophrenia = df2['Schizophrenia']\n",
    "y_bipolar = df2['Bipolar disorder']\n",
    "y_eating_disorders = df2['Eating disorders']\n",
    "y_anxiety_disorders = df2['Anxiety disorders']\n",
    "y_drug_use_disorders = df2['Drug use disorders']\n",
    "y_depressive_disorders = df2['Depressive disorders']\n",
    "y_alcohol_use_disorders = df2['Alcohol use disorders']\n",
    "\n",
    "# Create and fit K-Nearest Neighbors (K-NN) models\n",
    "knn_schizophrenia = KNeighborsRegressor().fit(X, y_schizophrenia)\n",
    "knn_bipolar = KNeighborsRegressor().fit(X, y_bipolar)\n",
    "knn_eating_disorders = KNeighborsRegressor().fit(X, y_eating_disorders)\n",
    "knn_anxiety_disorders = KNeighborsRegressor().fit(X, y_anxiety_disorders)\n",
    "knn_drug_use_disorders = KNeighborsRegressor().fit(X, y_drug_use_disorders)\n",
    "knn_depressive_disorders = KNeighborsRegressor().fit(X, y_depressive_disorders)\n",
    "knn_alcohol_use_disorders = KNeighborsRegressor().fit(X, y_alcohol_use_disorders)\n",
    "\n",
    "# Make predictions for the year 2013 (you can change this year as needed)\n",
    "year_to_predict = 2013\n",
    "predicted_values = {\n",
    "    'Year': [year_to_predict],\n",
    "    'K-Nearest Neighbors - Schizophrenia': [knn_schizophrenia.predict([[year_to_predict]])[0]],\n",
    "    'K-Nearest Neighbors - Bipolar Disorder': [knn_bipolar.predict([[year_to_predict]])[0]],\n",
    "    'K-Nearest Neighbors - Eating Disorders': [knn_eating_disorders.predict([[year_to_predict]])[0]],\n",
    "    'K-Nearest Neighbors - Anxiety Disorders': [knn_anxiety_disorders.predict([[year_to_predict]])[0]],\n",
    "    'K-Nearest Neighbors - Drug Use Disorders': [knn_drug_use_disorders.predict([[year_to_predict]])[0]],\n",
    "    'K-Nearest Neighbors - Depressive Disorders': [knn_depressive_disorders.predict([[year_to_predict]])[0]],\n",
    "    'K-Nearest Neighbors - Alcohol Use Disorders': [knn_alcohol_use_disorders.predict([[year_to_predict]])[0]]\n",
    "}\n",
    "\n",
    "# Create a DataFrame for the predictions\n",
    "predicted_df = pd.DataFrame(predicted_values)\n",
    "print(predicted_df)\n"
   ]
  },
  {
   "cell_type": "code",
   "execution_count": 50,
   "id": "4aa24f39",
   "metadata": {},
   "outputs": [
    {
     "data": {
      "image/png": "[encoded data removed]",
      "text/plain": [
       "<Figure size 576x432 with 2 Axes>"
      ]
     },
     "metadata": {
      "needs_background": "light"
     },
     "output_type": "display_data"
    }
   ],
   "source": [
    "import pandas as pd\n",
    "import matplotlib.pyplot as plt\n",
    "from sklearn.linear_model import LogisticRegression\n",
    "from sklearn.metrics import confusion_matrix\n",
    "import itertools\n",
    "\n",
    "# Load your dataset and split it into features (X) and binary target variable (y)\n",
    "X = df3[['Year']]  # Include relevant predictor columns\n",
    "y = df3['DALY Boolean']  # Replace 'binary_target_variable' with the actual column name\n",
    "\n",
    "# Create and fit a logistic regression model\n",
    "logistic_model = LogisticRegression()\n",
    "logistic_model.fit(X, y)\n",
    "\n",
    "# Make predictions\n",
    "y_pred = logistic_model.predict(X)\n",
    "\n",
    "# Create a confusion matrix to visualize the results\n",
    "conf_matrix = confusion_matrix(y, y_pred)\n",
    "\n",
    "# Visualize the confusion matrix as a heatmap\n",
    "plt.figure(figsize=(8, 6))\n",
    "plt.imshow(conf_matrix, interpolation='nearest', cmap=plt.get_cmap('Blues'))\n",
    "plt.title('Confusion Matrix for Logistic Regression')\n",
    "plt.colorbar()\n",
    "\n",
    "classes = ['Class 0', 'Class 1']  # Replace with your class labels\n",
    "tick_marks = range(len(classes))\n",
    "plt.xticks(tick_marks, classes)\n",
    "plt.yticks(tick_marks, classes)\n",
    "\n",
    "plt.xlabel('Predicted')\n",
    "plt.ylabel('Actual')\n",
    "\n",
    "# Add text annotations to the heatmap\n",
    "thresh = conf_matrix.max() / 2.0\n",
    "for i, j in itertools.product(range(conf_matrix.shape[0]), range(conf_matrix.shape[1])):\n",
    "    plt.text(j, i, format(conf_matrix[i, j], 'd'), horizontalalignment=\"center\", color=\"white\" if conf_matrix[i, j] > thresh else \"black\")\n",
    "\n",
    "plt.tight_layout()\n",
    "plt.show()\n"
   ]
  },
  {
   "cell_type": "code",
   "execution_count": 51,
   "id": "9c84bd60",
   "metadata": {},
   "outputs": [
    {
     "data": {
      "image/png": "[encoded data removed]",
      "text/plain": [
       "<Figure size 576x432 with 1 Axes>"
      ]
     },
     "metadata": {
      "needs_background": "light"
     },
     "output_type": "display_data"
    }
   ],
   "source": [
    "import pandas as pd\n",
    "from sklearn.linear_model import LogisticRegression\n",
    "import matplotlib.pyplot as plt\n",
    "\n",
    "# Load your dataset\n",
    "\n",
    "# Define your features (X) and binary target variable (y)\n",
    "X = df3[['Year']]  # Include relevant predictor columns\n",
    "y = df3['DALY Boolean']  # Replace 'binary_target_variable' with the actual column name\n",
    "\n",
    "# Create and fit a logistic regression model\n",
    "model = LogisticRegression()\n",
    "model.fit(X, y)\n",
    "\n",
    "# Make predictions\n",
    "y_pred = model.predict(X)\n",
    "\n",
    "# Create a scatterplot of actual vs predicted values\n",
    "plt.figure(figsize=(8, 6))\n",
    "plt.scatter(y, y_pred, alpha=0.5)\n",
    "plt.plot([0, 1], [0, 1], color='red', linestyle='--')\n",
    "plt.title('Logistic Regression: Actual vs Predicted')\n",
    "plt.xlabel('Actual Values')\n",
    "plt.ylabel('Predicted Values')\n",
    "plt.grid(True)\n",
    "\n",
    "# Show the plot\n",
    "plt.show()\n"
   ]
  },
  {
   "cell_type": "code",
   "execution_count": 52,
   "id": "9df53299",
   "metadata": {},
   "outputs": [
    {
     "data": {
      "image/png": "[encoded data removed]",
      "text/plain": [
       "<Figure size 576x432 with 1 Axes>"
      ]
     },
     "metadata": {
      "needs_background": "light"
     },
     "output_type": "display_data"
    }
   ],
   "source": [
    "import pandas as pd\n",
    "from sklearn.linear_model import LogisticRegression\n",
    "import matplotlib.pyplot as plt\n",
    "import numpy as np\n",
    "\n",
    "\n",
    "# Define your features (X) and binary target variable (y)\n",
    "X = df3[['Year']]  # Include relevant predictor columns\n",
    "y = df3['DALY Boolean']  # Replace 'binary_target_variable' with the actual column name\n",
    "\n",
    "# Create and fit a logistic regression model\n",
    "model = LogisticRegression()\n",
    "model.fit(X, y)\n",
    "\n",
    "# Make predictions\n",
    "y_pred = model.predict(X)\n",
    "\n",
    "# Create a scatterplot of actual vs predicted values\n",
    "plt.figure(figsize=(8, 6))\n",
    "plt.scatter(y, y_pred, alpha=0.5)\n",
    "plt.plot([0, 1], [0, 1], color='red', linestyle='--')\n",
    "plt.title('Logistic Regression: Actual vs Predicted')\n",
    "plt.xlabel('Actual Values')\n",
    "plt.ylabel('Predicted Values')\n",
    "\n",
    "# Add scattered dots for actual values\n",
    "unique_actuals = np.unique(y)\n",
    "for actual in unique_actuals:\n",
    "    mask = (y == actual)\n",
    "    plt.scatter(y[mask], y_pred[mask], label=f'Actual {actual}', alpha=0.5)\n",
    "\n",
    "plt.legend()\n",
    "plt.grid(True)\n",
    "\n",
    "# Show the plot\n",
    "plt.show()\n"
   ]
  },
  {
   "cell_type": "code",
   "execution_count": 53,
   "id": "b7975c39",
   "metadata": {},
   "outputs": [
    {
     "data": {
      "image/png": "[encoded data removed]",
      "text/plain": [
       "<Figure size 576x432 with 1 Axes>"
      ]
     },
     "metadata": {
      "needs_background": "light"
     },
     "output_type": "display_data"
    },
    {
     "data": {
      "text/html": [
       "<div>\n",
       "<style scoped>\n",
       "    .dataframe tbody tr th:only-of-type {\n",
       "        vertical-align: middle;\n",
       "    }\n",
       "\n",
       "    .dataframe tbody tr th {\n",
       "        vertical-align: top;\n",
       "    }\n",
       "\n",
       "    .dataframe thead th {\n",
       "        text-align: right;\n",
       "    }\n",
       "</style>\n",
       "<table border=\"1\" class=\"dataframe\">\n",
       "  <thead>\n",
       "    <tr style=\"text-align: right;\">\n",
       "      <th></th>\n",
       "      <th>Actual</th>\n",
       "      <th>Predicted_SVM</th>\n",
       "    </tr>\n",
       "  </thead>\n",
       "  <tbody>\n",
       "    <tr>\n",
       "      <th>count</th>\n",
       "      <td>6840.000000</td>\n",
       "      <td>6840.000000</td>\n",
       "    </tr>\n",
       "    <tr>\n",
       "      <th>mean</th>\n",
       "      <td>4.818070</td>\n",
       "      <td>4.675929</td>\n",
       "    </tr>\n",
       "    <tr>\n",
       "      <th>std</th>\n",
       "      <td>2.294064</td>\n",
       "      <td>0.339348</td>\n",
       "    </tr>\n",
       "    <tr>\n",
       "      <th>min</th>\n",
       "      <td>0.220000</td>\n",
       "      <td>4.078995</td>\n",
       "    </tr>\n",
       "    <tr>\n",
       "      <th>25%</th>\n",
       "      <td>3.010000</td>\n",
       "      <td>4.410027</td>\n",
       "    </tr>\n",
       "    <tr>\n",
       "      <th>50%</th>\n",
       "      <td>4.680000</td>\n",
       "      <td>4.724641</td>\n",
       "    </tr>\n",
       "    <tr>\n",
       "      <th>75%</th>\n",
       "      <td>6.390000</td>\n",
       "      <td>4.960333</td>\n",
       "    </tr>\n",
       "    <tr>\n",
       "      <th>max</th>\n",
       "      <td>13.760000</td>\n",
       "      <td>5.193734</td>\n",
       "    </tr>\n",
       "  </tbody>\n",
       "</table>\n",
       "</div>"
      ],
      "text/plain": [
       "            Actual  Predicted_SVM\n",
       "count  6840.000000    6840.000000\n",
       "mean      4.818070       4.675929\n",
       "std       2.294064       0.339348\n",
       "min       0.220000       4.078995\n",
       "25%       3.010000       4.410027\n",
       "50%       4.680000       4.724641\n",
       "75%       6.390000       4.960333\n",
       "max      13.760000       5.193734"
      ]
     },
     "execution_count": 53,
     "metadata": {},
     "output_type": "execute_result"
    }
   ],
   "source": [
    "import pandas as pd\n",
    "from sklearn.svm import SVR\n",
    "import matplotlib.pyplot as plt\n",
    "\n",
    "\n",
    "\n",
    "# Features and Target Variable\n",
    "X = df1[['Year']]  # Feature - Year (replace with your feature column)\n",
    "y = df1['DALYs (Disability-Adjusted Life Years) - Mental disorders - Sex: Both - Age: All Ages (Percent)']  # Target - DALYs (replace with your target column)\n",
    "\n",
    "# Create and fit a Support Vector Machine model\n",
    "svm_model = SVR(kernel='rbf')  # 'rbf' kernel for example, you can change it as per your need\n",
    "svm_model.fit(X, y)\n",
    "\n",
    "# Predictions\n",
    "y_pred_svm = svm_model.predict(X)\n",
    "\n",
    "# Visualizing the results\n",
    "plt.figure(figsize=(8, 6))\n",
    "plt.scatter(X, y, color='blue', label='Actual')\n",
    "plt.plot(X, y_pred_svm, color='red', label='SVM Prediction')\n",
    "plt.title('Support Vector Machine - Actual vs Predicted')\n",
    "plt.xlabel('Year')\n",
    "plt.ylabel('DALYs')\n",
    "plt.legend()\n",
    "plt.show()\n",
    "\n",
    "# Get statistical summary for SVM predictions\n",
    "svm_summary = pd.DataFrame({'Actual': y, 'Predicted_SVM': y_pred_svm})\n",
    "svm_summary.describe()\n",
    "\n"
   ]
  },
  {
   "cell_type": "code",
   "execution_count": 54,
   "id": "ea8fb3a8",
   "metadata": {
    "scrolled": false
   },
   "outputs": [
    {
     "ename": "RuntimeError",
     "evalue": "module compiled against API version 0x10 but this version of numpy is 0xf",
     "output_type": "error",
     "traceback": [
      "\u001b[1;31m---------------------------------------------------------------------------\u001b[0m",
      "\u001b[1;31mRuntimeError\u001b[0m                              Traceback (most recent call last)",
      "\u001b[1;31mRuntimeError\u001b[0m: module compiled against API version 0x10 but this version of numpy is 0xf"
     ]
    },
    {
     "ename": "ImportError",
     "evalue": "numpy.core._multiarray_umath failed to import",
     "output_type": "error",
     "traceback": [
      "\u001b[1;31m---------------------------------------------------------------------------\u001b[0m",
      "\u001b[1;31mImportError\u001b[0m                               Traceback (most recent call last)",
      "\u001b[1;31mImportError\u001b[0m: numpy.core._multiarray_umath failed to import"
     ]
    },
    {
     "ename": "ImportError",
     "evalue": "numpy.core.umath failed to import",
     "output_type": "error",
     "traceback": [
      "\u001b[1;31m---------------------------------------------------------------------------\u001b[0m",
      "\u001b[1;31mImportError\u001b[0m                               Traceback (most recent call last)",
      "\u001b[1;31mImportError\u001b[0m: numpy.core.umath failed to import"
     ]
    },
    {
     "ename": "TypeError",
     "evalue": "Unable to convert function return value to a Python type! The signature was\n\t() -> handle",
     "output_type": "error",
     "traceback": [
      "\u001b[1;31m---------------------------------------------------------------------------\u001b[0m",
      "\u001b[1;31mTypeError\u001b[0m                                 Traceback (most recent call last)",
      "\u001b[1;32m~\\AppData\\Local\\Temp/ipykernel_1368/3891283850.py\u001b[0m in \u001b[0;36m<module>\u001b[1;34m\u001b[0m\n\u001b[0;32m      1\u001b[0m \u001b[1;32mimport\u001b[0m \u001b[0mpandas\u001b[0m \u001b[1;32mas\u001b[0m \u001b[0mpd\u001b[0m\u001b[1;33m\u001b[0m\u001b[1;33m\u001b[0m\u001b[0m\n\u001b[1;32m----> 2\u001b[1;33m \u001b[1;32mfrom\u001b[0m \u001b[0mtensorflow\u001b[0m\u001b[1;33m.\u001b[0m\u001b[0mkeras\u001b[0m\u001b[1;33m.\u001b[0m\u001b[0mmodels\u001b[0m \u001b[1;32mimport\u001b[0m \u001b[0mSequential\u001b[0m\u001b[1;33m\u001b[0m\u001b[1;33m\u001b[0m\u001b[0m\n\u001b[0m\u001b[0;32m      3\u001b[0m \u001b[1;32mfrom\u001b[0m \u001b[0mtensorflow\u001b[0m\u001b[1;33m.\u001b[0m\u001b[0mkeras\u001b[0m\u001b[1;33m.\u001b[0m\u001b[0mlayers\u001b[0m \u001b[1;32mimport\u001b[0m \u001b[0mDense\u001b[0m\u001b[1;33m\u001b[0m\u001b[1;33m\u001b[0m\u001b[0m\n\u001b[0;32m      4\u001b[0m \u001b[1;32mimport\u001b[0m \u001b[0mmatplotlib\u001b[0m\u001b[1;33m.\u001b[0m\u001b[0mpyplot\u001b[0m \u001b[1;32mas\u001b[0m \u001b[0mplt\u001b[0m\u001b[1;33m\u001b[0m\u001b[1;33m\u001b[0m\u001b[0m\n\u001b[0;32m      5\u001b[0m \u001b[1;33m\u001b[0m\u001b[0m\n",
      "\u001b[1;32m~\\anaconda3\\lib\\site-packages\\tensorflow\\__init__.py\u001b[0m in \u001b[0;36m<module>\u001b[1;34m\u001b[0m\n\u001b[0;32m     36\u001b[0m \u001b[1;32mimport\u001b[0m \u001b[0mtyping\u001b[0m \u001b[1;32mas\u001b[0m \u001b[0m_typing\u001b[0m\u001b[1;33m\u001b[0m\u001b[1;33m\u001b[0m\u001b[0m\n\u001b[0;32m     37\u001b[0m \u001b[1;33m\u001b[0m\u001b[0m\n\u001b[1;32m---> 38\u001b[1;33m \u001b[1;32mfrom\u001b[0m \u001b[0mtensorflow\u001b[0m\u001b[1;33m.\u001b[0m\u001b[0mpython\u001b[0m\u001b[1;33m.\u001b[0m\u001b[0mtools\u001b[0m \u001b[1;32mimport\u001b[0m \u001b[0mmodule_util\u001b[0m \u001b[1;32mas\u001b[0m \u001b[0m_module_util\u001b[0m\u001b[1;33m\u001b[0m\u001b[1;33m\u001b[0m\u001b[0m\n\u001b[0m\u001b[0;32m     39\u001b[0m \u001b[1;32mfrom\u001b[0m \u001b[0mtensorflow\u001b[0m\u001b[1;33m.\u001b[0m\u001b[0mpython\u001b[0m\u001b[1;33m.\u001b[0m\u001b[0mutil\u001b[0m\u001b[1;33m.\u001b[0m\u001b[0mlazy_loader\u001b[0m \u001b[1;32mimport\u001b[0m \u001b[0mLazyLoader\u001b[0m \u001b[1;32mas\u001b[0m \u001b[0m_LazyLoader\u001b[0m\u001b[1;33m\u001b[0m\u001b[1;33m\u001b[0m\u001b[0m\n\u001b[0;32m     40\u001b[0m \u001b[1;33m\u001b[0m\u001b[0m\n",
      "\u001b[1;32m~\\anaconda3\\lib\\site-packages\\tensorflow\\python\\__init__.py\u001b[0m in \u001b[0;36m<module>\u001b[1;34m\u001b[0m\n\u001b[0;32m     40\u001b[0m \u001b[1;31m# from tensorflow.python import keras\u001b[0m\u001b[1;33m\u001b[0m\u001b[1;33m\u001b[0m\u001b[0m\n\u001b[0;32m     41\u001b[0m \u001b[1;31m# from tensorflow.python.layers import layers\u001b[0m\u001b[1;33m\u001b[0m\u001b[1;33m\u001b[0m\u001b[0m\n\u001b[1;32m---> 42\u001b[1;33m \u001b[1;32mfrom\u001b[0m \u001b[0mtensorflow\u001b[0m\u001b[1;33m.\u001b[0m\u001b[0mpython\u001b[0m\u001b[1;33m.\u001b[0m\u001b[0msaved_model\u001b[0m \u001b[1;32mimport\u001b[0m \u001b[0msaved_model\u001b[0m\u001b[1;33m\u001b[0m\u001b[1;33m\u001b[0m\u001b[0m\n\u001b[0m\u001b[0;32m     43\u001b[0m \u001b[1;32mfrom\u001b[0m \u001b[0mtensorflow\u001b[0m\u001b[1;33m.\u001b[0m\u001b[0mpython\u001b[0m\u001b[1;33m.\u001b[0m\u001b[0mtpu\u001b[0m \u001b[1;32mimport\u001b[0m \u001b[0mapi\u001b[0m\u001b[1;33m\u001b[0m\u001b[1;33m\u001b[0m\u001b[0m\n\u001b[0;32m     44\u001b[0m \u001b[1;33m\u001b[0m\u001b[0m\n",
      "\u001b[1;32m~\\anaconda3\\lib\\site-packages\\tensorflow\\python\\saved_model\\saved_model.py\u001b[0m in \u001b[0;36m<module>\u001b[1;34m\u001b[0m\n\u001b[0;32m     18\u001b[0m \u001b[1;33m\u001b[0m\u001b[0m\n\u001b[0;32m     19\u001b[0m \u001b[1;31m# pylint: disable=unused-import\u001b[0m\u001b[1;33m\u001b[0m\u001b[1;33m\u001b[0m\u001b[0m\n\u001b[1;32m---> 20\u001b[1;33m \u001b[1;32mfrom\u001b[0m \u001b[0mtensorflow\u001b[0m\u001b[1;33m.\u001b[0m\u001b[0mpython\u001b[0m\u001b[1;33m.\u001b[0m\u001b[0msaved_model\u001b[0m \u001b[1;32mimport\u001b[0m \u001b[0mbuilder\u001b[0m\u001b[1;33m\u001b[0m\u001b[1;33m\u001b[0m\u001b[0m\n\u001b[0m\u001b[0;32m     21\u001b[0m \u001b[1;32mfrom\u001b[0m \u001b[0mtensorflow\u001b[0m\u001b[1;33m.\u001b[0m\u001b[0mpython\u001b[0m\u001b[1;33m.\u001b[0m\u001b[0msaved_model\u001b[0m \u001b[1;32mimport\u001b[0m \u001b[0mconstants\u001b[0m\u001b[1;33m\u001b[0m\u001b[1;33m\u001b[0m\u001b[0m\n\u001b[0;32m     22\u001b[0m \u001b[1;32mfrom\u001b[0m \u001b[0mtensorflow\u001b[0m\u001b[1;33m.\u001b[0m\u001b[0mpython\u001b[0m\u001b[1;33m.\u001b[0m\u001b[0msaved_model\u001b[0m \u001b[1;32mimport\u001b[0m \u001b[0mloader\u001b[0m\u001b[1;33m\u001b[0m\u001b[1;33m\u001b[0m\u001b[0m\n",
      "\u001b[1;32m~\\anaconda3\\lib\\site-packages\\tensorflow\\python\\saved_model\\builder.py\u001b[0m in \u001b[0;36m<module>\u001b[1;34m\u001b[0m\n\u001b[0;32m     21\u001b[0m \u001b[1;33m\u001b[0m\u001b[0m\n\u001b[0;32m     22\u001b[0m \u001b[1;31m# pylint: disable=unused-import\u001b[0m\u001b[1;33m\u001b[0m\u001b[1;33m\u001b[0m\u001b[0m\n\u001b[1;32m---> 23\u001b[1;33m \u001b[1;32mfrom\u001b[0m \u001b[0mtensorflow\u001b[0m\u001b[1;33m.\u001b[0m\u001b[0mpython\u001b[0m\u001b[1;33m.\u001b[0m\u001b[0msaved_model\u001b[0m\u001b[1;33m.\u001b[0m\u001b[0mbuilder_impl\u001b[0m \u001b[1;32mimport\u001b[0m \u001b[0m_SavedModelBuilder\u001b[0m\u001b[1;33m\u001b[0m\u001b[1;33m\u001b[0m\u001b[0m\n\u001b[0m\u001b[0;32m     24\u001b[0m \u001b[1;32mfrom\u001b[0m \u001b[0mtensorflow\u001b[0m\u001b[1;33m.\u001b[0m\u001b[0mpython\u001b[0m\u001b[1;33m.\u001b[0m\u001b[0msaved_model\u001b[0m\u001b[1;33m.\u001b[0m\u001b[0mbuilder_impl\u001b[0m \u001b[1;32mimport\u001b[0m \u001b[0mSavedModelBuilder\u001b[0m\u001b[1;33m\u001b[0m\u001b[1;33m\u001b[0m\u001b[0m\n\u001b[0;32m     25\u001b[0m \u001b[1;31m# pylint: enable=unused-import\u001b[0m\u001b[1;33m\u001b[0m\u001b[1;33m\u001b[0m\u001b[0m\n",
      "\u001b[1;32m~\\anaconda3\\lib\\site-packages\\tensorflow\\python\\saved_model\\builder_impl.py\u001b[0m in \u001b[0;36m<module>\u001b[1;34m\u001b[0m\n\u001b[0;32m     24\u001b[0m \u001b[1;32mfrom\u001b[0m \u001b[0mtensorflow\u001b[0m\u001b[1;33m.\u001b[0m\u001b[0mcore\u001b[0m\u001b[1;33m.\u001b[0m\u001b[0mprotobuf\u001b[0m \u001b[1;32mimport\u001b[0m \u001b[0msaved_model_pb2\u001b[0m\u001b[1;33m\u001b[0m\u001b[1;33m\u001b[0m\u001b[0m\n\u001b[0;32m     25\u001b[0m \u001b[1;32mfrom\u001b[0m \u001b[0mtensorflow\u001b[0m\u001b[1;33m.\u001b[0m\u001b[0mcore\u001b[0m\u001b[1;33m.\u001b[0m\u001b[0mprotobuf\u001b[0m \u001b[1;32mimport\u001b[0m \u001b[0msaver_pb2\u001b[0m\u001b[1;33m\u001b[0m\u001b[1;33m\u001b[0m\u001b[0m\n\u001b[1;32m---> 26\u001b[1;33m \u001b[1;32mfrom\u001b[0m \u001b[0mtensorflow\u001b[0m\u001b[1;33m.\u001b[0m\u001b[0mpython\u001b[0m\u001b[1;33m.\u001b[0m\u001b[0mframework\u001b[0m \u001b[1;32mimport\u001b[0m \u001b[0mdtypes\u001b[0m\u001b[1;33m\u001b[0m\u001b[1;33m\u001b[0m\u001b[0m\n\u001b[0m\u001b[0;32m     27\u001b[0m \u001b[1;32mfrom\u001b[0m \u001b[0mtensorflow\u001b[0m\u001b[1;33m.\u001b[0m\u001b[0mpython\u001b[0m\u001b[1;33m.\u001b[0m\u001b[0mframework\u001b[0m \u001b[1;32mimport\u001b[0m \u001b[0mops\u001b[0m\u001b[1;33m\u001b[0m\u001b[1;33m\u001b[0m\u001b[0m\n\u001b[0;32m     28\u001b[0m \u001b[1;32mfrom\u001b[0m \u001b[0mtensorflow\u001b[0m\u001b[1;33m.\u001b[0m\u001b[0mpython\u001b[0m\u001b[1;33m.\u001b[0m\u001b[0mframework\u001b[0m \u001b[1;32mimport\u001b[0m \u001b[0mtensor\u001b[0m\u001b[1;33m\u001b[0m\u001b[1;33m\u001b[0m\u001b[0m\n",
      "\u001b[1;32m~\\anaconda3\\lib\\site-packages\\tensorflow\\python\\framework\\dtypes.py\u001b[0m in \u001b[0;36m<module>\u001b[1;34m\u001b[0m\n\u001b[0;32m     35\u001b[0m \u001b[1;32mfrom\u001b[0m \u001b[0mtensorflow\u001b[0m\u001b[1;33m.\u001b[0m\u001b[0mtsl\u001b[0m\u001b[1;33m.\u001b[0m\u001b[0mpython\u001b[0m\u001b[1;33m.\u001b[0m\u001b[0mlib\u001b[0m\u001b[1;33m.\u001b[0m\u001b[0mcore\u001b[0m \u001b[1;32mimport\u001b[0m \u001b[0mpywrap_ml_dtypes\u001b[0m\u001b[1;33m\u001b[0m\u001b[1;33m\u001b[0m\u001b[0m\n\u001b[0;32m     36\u001b[0m \u001b[1;33m\u001b[0m\u001b[0m\n\u001b[1;32m---> 37\u001b[1;33m \u001b[0m_np_bfloat16\u001b[0m \u001b[1;33m=\u001b[0m \u001b[0mpywrap_ml_dtypes\u001b[0m\u001b[1;33m.\u001b[0m\u001b[0mbfloat16\u001b[0m\u001b[1;33m(\u001b[0m\u001b[1;33m)\u001b[0m\u001b[1;33m\u001b[0m\u001b[1;33m\u001b[0m\u001b[0m\n\u001b[0m\u001b[0;32m     38\u001b[0m \u001b[0m_np_float8_e4m3fn\u001b[0m \u001b[1;33m=\u001b[0m \u001b[0mpywrap_ml_dtypes\u001b[0m\u001b[1;33m.\u001b[0m\u001b[0mfloat8_e4m3fn\u001b[0m\u001b[1;33m(\u001b[0m\u001b[1;33m)\u001b[0m\u001b[1;33m\u001b[0m\u001b[1;33m\u001b[0m\u001b[0m\n\u001b[0;32m     39\u001b[0m \u001b[0m_np_float8_e5m2\u001b[0m \u001b[1;33m=\u001b[0m \u001b[0mpywrap_ml_dtypes\u001b[0m\u001b[1;33m.\u001b[0m\u001b[0mfloat8_e5m2\u001b[0m\u001b[1;33m(\u001b[0m\u001b[1;33m)\u001b[0m\u001b[1;33m\u001b[0m\u001b[1;33m\u001b[0m\u001b[0m\n",
      "\u001b[1;31mTypeError\u001b[0m: Unable to convert function return value to a Python type! The signature was\n\t() -> handle"
     ]
    }
   ],
   "source": [
    "import pandas as pd\n",
    "from tensorflow.keras.models import Sequential\n",
    "from tensorflow.keras.layers import Dense\n",
    "import matplotlib.pyplot as plt\n",
    "\n",
    "\n",
    "\n",
    "# Features and Target Variable\n",
    "X = df1[['Year']]  # Feature - Year (replace with your feature column)\n",
    "y = df1['DALYs (Disability-Adjusted Life Years) - Mental disorders - Sex: Both - Age: All Ages (Percent)']  # Target - DALYs (replace with your target column)\n",
    "\n",
    "# Creating an ANN model\n",
    "ann_model = Sequential()\n",
    "ann_model.add(Dense(10, input_dim=1, activation='relu'))\n",
    "ann_model.add(Dense(1, activation='linear'))  # Linear activation for regression\n",
    "\n",
    "# Compile the model\n",
    "ann_model.compile(loss='mean_squared_error', optimizer='adam')  # Adjust loss and optimizer as per need\n",
    "\n",
    "# Fit the model\n",
    "ann_model.fit(X, y, epochs=100, batch_size=10, verbose=1)  # Modify epochs and batch_size as needed\n",
    "\n",
    "# Predictions\n",
    "y_pred_ann = ann_model.predict(X)\n",
    "\n",
    "# Visualizing the results\n",
    "plt.figure(figsize=(8, 6))\n",
    "plt.scatter(X, y, color='blue', label='Actual')\n",
    "plt.scatter(X, y_pred_ann, color='red', label='ANN Prediction')\n",
    "plt.title('Artificial Neural Network - Actual vs Predicted')\n",
    "plt.xlabel('Year')\n",
    "plt.ylabel('DALYs')\n",
    "plt.legend()\n",
    "plt.show()\n",
    "\n",
    "# Get statistical summary for ANN predictions\n",
    "ann_summary = pd.DataFrame({'Actual': y, 'Predicted_ANN': y_pred_ann.flatten()})\n",
    "ann_summary.describe()\n",
    "\n"
   ]
  },
  {
   "cell_type": "code",
   "execution_count": null,
   "id": "df02e272",
   "metadata": {},
   "outputs": [],
   "source": [
    "import pandas as pd\n",
    "from sklearn.cluster import KMeans\n",
    "import matplotlib.pyplot as plt\n",
    "  # Replace 'your_dataset.csv' with your file\n",
    "\n",
    "# Assuming 'DALYs (Disability-Adjusted Life Years) - Mental disorders - Sex: Both - Age: All Ages (Percent)' \n",
    "# is the column that you want to use for clustering\n",
    "X = df1[['DALYs (Disability-Adjusted Life Years) - Mental disorders - Sex: Both - Age: All Ages (Percent)']]\n",
    "\n",
    "# Perform K-Means clustering\n",
    "kmeans = KMeans(n_clusters=3)  # Define the number of clusters\n",
    "kmeans.fit(X)\n",
    "df1['Cluster'] = kmeans.labels_\n",
    "\n",
    "# Visualizing the K-Means clusters\n",
    "plt.scatter(df1['Year'], df1['DALYs (Disability-Adjusted Life Years) - Mental disorders - Sex: Both - Age: All Ages (Percent)'], c=df1['Cluster'], cmap='viridis')\n",
    "plt.xlabel('Year')\n",
    "plt.ylabel('DALYs')\n",
    "plt.title('K-Means Clustering')\n",
    "plt.show()\n",
    "\n",
    "\n",
    "# Statistical Summary for K-Means Clustering\n",
    "kmeans_summary = df1.groupby('Cluster')['DALYs (Disability-Adjusted Life Years) - Mental disorders - Sex: Both - Age: All Ages (Percent)'].describe()\n",
    "print(\"Statistical Summary for K-Means Clusters:\")\n",
    "print(kmeans_summary)\n"
   ]
  },
  {
   "cell_type": "code",
   "execution_count": null,
   "id": "9e7693a9",
   "metadata": {
    "scrolled": true
   },
   "outputs": [],
   "source": [
    "from sklearn.decomposition import PCA\n",
    "from sklearn.preprocessing import OneHotEncoder\n",
    "import pandas as pd\n",
    "import matplotlib.pyplot as plt\n",
    "\n",
    "# Assuming 'Year', 'Entity', and 'Code' are the features to be used\n",
    "X_pca = df1[['Year', 'Entity', 'Code']]\n",
    "\n",
    "# One-hot encode the categorical features\n",
    "encoder = OneHotEncoder(sparse=False)\n",
    "X_encoded = encoder.fit_transform(X_pca[['Entity', 'Code']])\n",
    "\n",
    "# Combine one-hot encoded features with the 'Year' feature\n",
    "X_combined = pd.concat([pd.DataFrame(X_encoded), X_pca['Year']], axis=1)\n",
    "\n",
    "# Initialize PCA\n",
    "pca = PCA(n_components=2)\n",
    "\n",
    "# Fit and transform the dataset\n",
    "pca_result = pca.fit_transform(X_combined)\n",
    "\n",
    "# Create a DataFrame to store the results of PCA\n",
    "pca_df = pd.DataFrame(data=pca_result, columns=['PCA1', 'PCA2'])\n",
    "\n",
    "# Concatenate the PCA DataFrame with the original DataFrame\n",
    "df1 = pd.concat([df1, pca_df], axis=1)\n",
    "\n",
    "# Visualizing the PCA components\n",
    "plt.scatter(df1['PCA1'], df1['PCA2'])\n",
    "plt.xlabel('PCA 1')\n",
    "plt.ylabel('PCA 2')\n",
    "plt.title('Principal Component Analysis (PCA)')\n",
    "plt.show()\n",
    "\n",
    "# Statistical Summary for Principal Component Analysis (PCA)\n",
    "pca_summary = pca_df.describe()\n",
    "print(\"Statistical Summary for PCA Components:\")\n",
    "print(pca_summary)\n",
    "\n",
    "\n",
    "# Display explained variance ratio\n",
    "explained_variance = pca.explained_variance_ratio_\n",
    "print(\"Explained variance ratio:\", explained_variance)\n",
    "\n",
    "# Cumulative explained variance\n",
    "cumulative_explained_variance = explained_variance.cumsum()\n",
    "print(\"Cumulative explained variance:\", cumulative_explained_variance)\n",
    "\n"
   ]
  },
  {
   "cell_type": "code",
   "execution_count": null,
   "id": "abf3fde6",
   "metadata": {},
   "outputs": [],
   "source": [
    "from sklearn.decomposition import PCA\n",
    "from sklearn.preprocessing import OneHotEncoder\n",
    "import pandas as pd\n",
    "import matplotlib.pyplot as plt\n",
    "\n",
    "# Selecting features 'Year', 'Entity', and 'Code'\n",
    "features = ['Year', 'Entity', 'Code']  # Replace with your chosen features\n",
    "X_pca = df1[features]\n",
    "\n",
    "# One-hot encode categorical columns 'Entity' and 'Code'\n",
    "ohe = OneHotEncoder(sparse=False, drop='first')\n",
    "X_encoded = ohe.fit_transform(X_pca[['Entity', 'Code']])\n",
    "X_encoded = pd.DataFrame(X_encoded, columns=ohe.get_feature_names(['Entity', 'Code']))\n",
    "\n",
    "# Combine the one-hot encoded data with the 'Year' column\n",
    "X_numeric = pd.concat([X_pca['Year'].reset_index(drop=True), X_encoded], axis=1)\n",
    "\n",
    "if X_numeric.shape[1] > 1:\n",
    "    # Initialize PCA\n",
    "    pca = PCA(n_components=2)  # You can set the number of components you want\n",
    "\n",
    "    # Fit and transform the dataset\n",
    "    pca_result = pca.fit_transform(X_numeric)\n",
    "\n",
    "    # Create a DataFrame to store the results of PCA\n",
    "    pca_df = pd.DataFrame(data=pca_result, columns=['PCA1', 'PCA2'])\n",
    "\n",
    "    # Concatenate the PCA DataFrame with the original DataFrame\n",
    "    df1 = pd.concat([df1, pca_df], axis=1)\n",
    "\n",
    "    # Visualizing the PCA components\n",
    "    plt.scatter(df1['PCA1'], df1['PCA2'])\n",
    "    plt.xlabel('PCA 1')\n",
    "    plt.ylabel('PCA 2')\n",
    "    plt.title('Principal Component Analysis (PCA)')\n",
    "    plt.show()\n",
    "    \n",
    "    # Statistical Summary for Principal Component Analysis (PCA)\n",
    "    pca_summary = pca_df.describe()\n",
    "    print(\"Statistical Summary for PCA Components:\")\n",
    "    print(pca_summary)\n",
    "\n",
    "\n",
    "    # Display explained variance ratio\n",
    "    explained_variance = pca.explained_variance_ratio_\n",
    "    print(\"Explained variance ratio:\", explained_variance)\n",
    "\n",
    "    # Cumulative explained variance\n",
    "    cumulative_explained_variance = explained_variance.cumsum()\n",
    "    print(\"Cumulative explained variance:\", cumulative_explained_variance)\n",
    "else:\n",
    "    print(\"Insufficient number of features for PCA\")\n"
   ]
  },
  {
   "cell_type": "code",
   "execution_count": null,
   "id": "a537f9d2",
   "metadata": {},
   "outputs": [],
   "source": [
    "from sklearn.tree import DecisionTreeRegressor\n",
    "from sklearn.metrics import mean_absolute_error, mean_squared_error\n",
    "\n",
    "# Assuming df1 contains the dataset\n",
    "\n",
    "# Define your features (X) and target variable (y)\n",
    "X = df1[['Year']]\n",
    "y = df1['DALYs (Disability-Adjusted Life Years) - Mental disorders - Sex: Both - Age: All Ages (Percent)']\n",
    "\n",
    "# Create and fit a decision tree model\n",
    "model = DecisionTreeRegressor()\n",
    "model.fit(X, y)\n",
    "\n",
    "# Make predictions\n",
    "predictions = model.predict(X)\n",
    "\n",
    "# Calculate metrics\n",
    "mae = mean_absolute_error(y, predictions)\n",
    "mse = mean_squared_error(y, predictions)\n",
    "rmse = mean_squared_error(y, predictions, squared=False)  # Calculating RMSE from MSE\n",
    "\n",
    "print(f\"Mean Absolute Error (MAE): {mae}\")\n",
    "print(f\"Mean Squared Error (MSE): {mse}\")\n",
    "print(f\"Root Mean Squared Error (RMSE): {rmse}\")\n"
   ]
  },
  {
   "cell_type": "code",
   "execution_count": null,
   "id": "6bdf88e6",
   "metadata": {},
   "outputs": [],
   "source": [
    "from sklearn.neighbors import KNeighborsClassifier\n",
    "from sklearn.metrics import accuracy_score, f1_score\n",
    "from sklearn.model_selection import train_test_split\n",
    "\n",
    "# Define your features (X) and binary target variable (y)\n",
    "X = df3[['Year']]  # Include relevant predictor columns\n",
    "y = df3['DALY Boolean']\n",
    "\n",
    "# Split the data into training and testing sets\n",
    "X_train, X_test, y_train, y_test = train_test_split(X, y, test_size=0.2, random_state=42)\n",
    "\n",
    "# Create and fit a K-Nearest Neighbors classifier\n",
    "model = KNeighborsClassifier()\n",
    "model.fit(X_train, y_train)\n",
    "\n",
    "# Make predictions on the test set\n",
    "predictions = model.predict(X_test)\n",
    "\n",
    "# Calculate accuracy\n",
    "accuracy = accuracy_score(y_test, predictions)\n",
    "\n",
    "# Calculate F1 score\n",
    "f1 = f1_score(y_test, predictions)\n",
    "\n",
    "print(f\"Accuracy: {accuracy}\")\n",
    "print(f\"F1 Score: {f1}\")\n"
   ]
  },
  {
   "cell_type": "code",
   "execution_count": null,
   "id": "88896ec3",
   "metadata": {},
   "outputs": [],
   "source": [
    "from sklearn.svm import SVC\n",
    "from sklearn.metrics import accuracy_score, f1_score\n",
    "from sklearn.model_selection import train_test_split\n",
    "\n",
    "# Define your features (X) and binary target variable (y)\n",
    "X = df3[['Year']]  # Include relevant predictor columns\n",
    "y = df3['DALY Boolean']\n",
    "\n",
    "# Split the data into training and testing sets\n",
    "X_train, X_test, y_train, y_test = train_test_split(X, y, test_size=0.2, random_state=42)\n",
    "\n",
    "# Create and fit an SVM classifier\n",
    "model = SVC()\n",
    "model.fit(X_train, y_train)\n",
    "\n",
    "# Make predictions on the test set\n",
    "predictions = model.predict(X_test)\n",
    "\n",
    "# Calculate accuracy\n",
    "accuracy = accuracy_score(y_test, predictions)\n",
    "\n",
    "# Calculate F1 score\n",
    "f1 = f1_score(y_test, predictions)\n",
    "\n",
    "print(f\"Accuracy: {accuracy}\")\n",
    "print(f\"F1 Score: {f1}\")\n"
   ]
  },
  {
   "cell_type": "code",
   "execution_count": null,
   "id": "2a7f9f87",
   "metadata": {
    "scrolled": true
   },
   "outputs": [],
   "source": [
    "import pandas as pd\n",
    "from sklearn.model_selection import train_test_split\n",
    "from sklearn.neural_network import MLPClassifier\n",
    "from sklearn.metrics import confusion_matrix\n",
    "import seaborn as sns\n",
    "import matplotlib.pyplot as plt\n",
    "\n",
    "\n",
    "# Assume 'features' as your feature columns and 'target' as your target column\n",
    "features = df3[['Year']]  # Replace these columns with your features\n",
    "target = df3['DALY Boolean']  # Replace 'target_column' with your target\n",
    "\n",
    "# Split the data into training and testing sets\n",
    "X_train, X_test, y_train, y_test = train_test_split(features, target, test_size=0.2, random_state=42)\n",
    "\n",
    "# Create and train an Artificial Neural Network model\n",
    "model = MLPClassifier(hidden_layer_sizes=(100, 100), max_iter=1000)  # Adjust parameters as needed\n",
    "model.fit(X_train, y_train)\n",
    "\n",
    "# Predict the target values using the test set\n",
    "y_pred = model.predict(X_test)\n",
    "\n",
    "# Generate a confusion matrix\n",
    "cm = confusion_matrix(y_test, y_pred)\n",
    "\n",
    "# Plot the confusion matrix\n",
    "plt.figure(figsize=(8, 6))\n",
    "sns.heatmap(cm, annot=True, cmap='Blues', fmt='g')\n",
    "plt.xlabel('Predicted')\n",
    "plt.ylabel('Actual')\n",
    "plt.title('Confusion Matrix for ANN')\n",
    "plt.show()\n"
   ]
  },
  {
   "cell_type": "code",
   "execution_count": null,
   "id": "cdd8e434",
   "metadata": {},
   "outputs": [],
   "source": [
    "from sklearn.cluster import KMeans\n",
    "from sklearn.preprocessing import StandardScaler\n",
    "import matplotlib.pyplot as plt\n",
    "\n",
    "# Assuming 'df' is your DataFrame\n",
    "# Use label encoding for the categorical feature 'Entity'\n",
    "# from sklearn.preprocessing import LabelEncoder\n",
    "# label_encoder = LabelEncoder()\n",
    "# df4['Code_LabelEncoded'] = label_encoder.fit_transform(df4['Code'])\n",
    "\n",
    "# Scale the numerical features\n",
    "scaler = StandardScaler()\n",
    "df4[['Year']] = scaler.fit_transform(df4[['Year']])\n",
    "\n",
    "# Use both the categorical and numerical features\n",
    "features = df4[['Year']]\n",
    "\n",
    "# Apply K-Means\n",
    "kmeans = KMeans(n_clusters=4)  # You can set the number of clusters\n",
    "kmeans.fit(features)\n",
    "# Access cluster predictions\n",
    "df4['KMeans_Cluster'] = kmeans.predict(features)\n",
    "\n",
    "\n",
    "# Use the KMeans_Cluster column obtained in the previous code\n",
    "plt.scatter( df4['Year'], c=df4['KMeans_Cluster'], cmap='viridis')\n",
    "plt.xlabel('Year')\n",
    "plt.ylabel('DALY')\n",
    "plt.title('K-Means Clustering')\n",
    "plt.show()\n",
    "\n"
   ]
  },
  {
   "cell_type": "code",
   "execution_count": null,
   "id": "9dd29821",
   "metadata": {},
   "outputs": [],
   "source": [
    "from sklearn.decomposition import PCA\n",
    "from sklearn.preprocessing import StandardScaler\n",
    "\n",
    "# Assuming 'df' is your DataFrame\n",
    "# Use one-hot encoding for the categorical feature 'Entity'\n",
    "encoded_entity = pd.get_dummies(df3['Code'])\n",
    "\n",
    "# Scale the numerical features\n",
    "scaler = StandardScaler()\n",
    "df3[['Year']] = scaler.fit_transform(df3[['Year']])\n",
    "\n",
    "# Combine the encoded categorical and numerical features\n",
    "features = pd.concat([encoded_entity, df3['Year']], axis=1)\n",
    "\n",
    "# Apply PCA\n",
    "pca = PCA(n_components=2)  # Assuming 2 components for visualization\n",
    "pca_result = pca.fit_transform(features)\n",
    "# Create a DataFrame to store the results of PCA\n",
    "pca_df3 = pd.DataFrame(data=pca_result, columns=['PCA1', 'PCA2'])\n",
    "# Concatenate the PCA DataFrame with the original DataFrame\n",
    "df3 = pd.concat([df3, pca_df3], axis=1)\n",
    "# Plotting the first two PCA components\n",
    "plt.scatter(df3['PCA1'], df3['PCA2'])\n",
    "plt.xlabel('PCA 1')\n",
    "plt.ylabel('PCA 2')\n",
    "plt.title('Principal Component Analysis (PCA)')\n",
    "plt.show()\n"
   ]
  },
  {
   "cell_type": "code",
   "execution_count": null,
   "id": "0c833c52",
   "metadata": {
    "scrolled": false
   },
   "outputs": [],
   "source": [
    "from sklearn.metrics import plot_confusion_matrix\n",
    "from sklearn.neural_network import MLPClassifier\n",
    "from sklearn.model_selection import train_test_split\n",
    "\n",
    "from sklearn.preprocessing import LabelEncoder\n",
    "label_encoder = LabelEncoder()\n",
    "df3['Entity_LabelEncoded'] = label_encoder.fit_transform(df3['Code'])\n",
    "\n",
    "# Assuming 'df3' is your DataFrame\n",
    "X = df3[['Entity_LabelEncoded', 'Year']]  # Features\n",
    "y = df3['DALY Boolean']  # Target variable\n",
    "\n",
    "# Split the data into training and testing sets\n",
    "X_train, X_test, y_train, y_test = train_test_split(X, y, test_size=0.2, random_state=42)\n",
    "\n",
    "# Create and train an Artificial Neural Network model\n",
    "model = MLPClassifier(hidden_layer_sizes=(100, 100), max_iter=1000)\n",
    "model.fit(X_train, y_train)\n",
    "\n",
    "# Predict the target values using the test set\n",
    "y_pred = model.predict(X_test)\n",
    "\n",
    "# Assuming 'model' is your trained ANN model\n",
    "plot_confusion_matrix(model, X_test, y_test, cmap=plt.cm.Blues)\n",
    "plt.title('Confusion Matrix for ANN')\n",
    "plt.show()\n",
    "\n",
    "# Calculate accuracy and F1-score\n",
    "accuracy = accuracy_score(y_test, y_pred)\n",
    "f1 = f1_score(y_test, y_pred)\n",
    "\n",
    "print(f\"Accuracy: {accuracy}\")\n",
    "print(f\"F1 Score: {f1}\")"
   ]
  },
  {
   "cell_type": "code",
   "execution_count": null,
   "id": "3e0973ac",
   "metadata": {},
   "outputs": [],
   "source": [
    "from sklearn.cluster import KMeans\n",
    "from sklearn.preprocessing import LabelEncoder\n",
    "import pandas as pd\n",
    "\n",
    "# Load your dataset, considering 'df' as your dataset\n",
    "\n",
    "# Assuming the categorical feature you want to encode is 'Categorical_Feature'\n",
    "categorical_feature = df3[['Code']]  # Replace 'Categorical_Feature' with your column name\n",
    "\n",
    "# Label encode the categorical feature\n",
    "label_encoder = LabelEncoder()\n",
    "df3['Codee'] = label_encoder.fit_transform(categorical_feature)\n",
    "\n",
    "# Prepare the data for clustering\n",
    "data_for_clustering = df3[['Codee', 'Year']]  # Replace with your features\n",
    "\n",
    "# Create a K-Means model and fit it on your data\n",
    "kmeans = KMeans(n_clusters=2)  # Adjust the number of clusters as needed\n",
    "kmeans.fit(data_for_clustering)\n",
    "\n",
    "# Predict the clusters\n",
    "predicted_clusters = kmeans.predict(data_for_clustering)\n",
    "\n",
    "# Visualize the clusters in 2D space\n",
    "# Example plotting (for two features)\n",
    "plt.scatter(data_for_clustering['Codee'], data_for_clustering['Year'], c=predicted_clusters, cmap='viridis')\n",
    "plt.title('K-Means Clustering')\n",
    "plt.xlabel('Codee')\n",
    "plt.ylabel('Year')\n",
    "plt.show()"
   ]
  },
  {
   "cell_type": "code",
   "execution_count": null,
   "id": "71543a35",
   "metadata": {},
   "outputs": [],
   "source": [
    "from sklearn.cluster import KMeans\n",
    "from sklearn.preprocessing import StandardScaler\n",
    "\n",
    "# Assuming 'df' is your DataFrame\n",
    "# Use label encoding for the categorical feature 'Entity'\n",
    "from sklearn.preprocessing import LabelEncoder\n",
    "label_encoder = LabelEncoder()\n",
    "df1['Entity_LabelEncoded'] = label_encoder.fit_transform(df1['Entity'])\n",
    "\n",
    "# Scale the numerical features\n",
    "scaler = StandardScaler()\n",
    "df1[['Year']] = scaler.fit_transform(df1[['Year']])\n",
    "\n",
    "# Use both the categorical and numerical features\n",
    "features = df1[['Entity_LabelEncoded', 'Year']]\n",
    "\n",
    "# Apply K-Means\n",
    "kmeans = KMeans(n_clusters=3)  # You can set the number of clusters\n",
    "kmeans.fit(features)\n",
    "# Access cluster predictions\n",
    "df1['KMeans_Cluster'] = kmeans.predict(features)\n",
    "\n",
    "import matplotlib.pyplot as plt\n",
    "\n",
    "# Use the KMeans_Cluster column obtained in the previous code\n",
    "plt.scatter(df1['Entity_LabelEncoded'], df1['Year'], c=df1['KMeans_Cluster'], cmap='viridis')\n",
    "plt.xlabel('Entity (Label Encoded)')\n",
    "plt.ylabel('Year')\n",
    "plt.title('K-Means Clustering')\n",
    "plt.show()\n"
   ]
  },
  {
   "cell_type": "code",
   "execution_count": null,
   "id": "c49cf957",
   "metadata": {},
   "outputs": [],
   "source": [
    "from sklearn.cluster import KMeans\n",
    "from sklearn.preprocessing import StandardScaler\n",
    "\n",
    "# Assuming 'df' is your DataFrame\n",
    "# Use label encoding for the categorical feature 'Entity'\n",
    "# from sklearn.preprocessing import LabelEncoder\n",
    "# label_encoder = LabelEncoder()\n",
    "# df3['Entity_LabelEncoded'] = label_encoder.fit_transform(df3['Entity'])\n",
    "\n",
    "# # Scale the numerical features\n",
    "# scaler = StandardScaler()\n",
    "# df3[['Year']] = scaler.fit_transform(df3[['Year']])\n",
    "\n",
    "# Use both the categorical and numerical features\n",
    "features = df3[['Entity_LabelEncoded', 'Year']]\n",
    "\n",
    "# Apply K-Means\n",
    "kmeans = KMeans(n_clusters=3)  # You can set the number of clusters\n",
    "kmeans.fit(features)\n",
    "# Access cluster predictions\n",
    "df3['KMeans_Cluster'] = kmeans.predict(features)\n",
    "\n",
    "import matplotlib.pyplot as plt\n",
    "\n",
    "# Use the KMeans_Cluster column obtained in the previous code\n",
    "plt.scatter(df3['Entity_LabelEncoded'], df3['Year'], c=df3['KMeans_Cluster'], cmap='viridis')\n",
    "plt.xlabel('Entity (Label Encoded)')\n",
    "plt.ylabel('Year')\n",
    "plt.title('K-Means Clustering')\n",
    "plt.show()\n"
   ]
  },
  {
   "cell_type": "code",
   "execution_count": null,
   "id": "046ce850",
   "metadata": {},
   "outputs": [],
   "source": [
    "import pandas as pd\n",
    "from sklearn.preprocessing import MinMaxScaler\n",
    "from sklearn.cluster import KMeans\n",
    "import matplotlib.pyplot as plt\n",
    "  # Replace 'your_dataset.csv' with your file\n",
    "\n",
    "# Assuming 'DALYs (Disability-Adjusted Life Years) - Mental disorders - Sex: Both - Age: All Ages (Percent)' \n",
    "# is the column that you want to use for clustering\n",
    "X = df5[['Year']]\n",
    "scaler = MinMaxScaler(feature_range=(1900, 2023))\n",
    "# Perform K-Means clustering\n",
    "kmeans = KMeans(n_clusters=3)  # Define the number of clusters\n",
    "kmeans.fit(X)\n",
    "df5['Cluster'] = kmeans.labels_\n",
    "\n",
    "# Visualizing the K-Means clusters\n",
    "plt.scatter(df5['Year'], df5['Population (historical estimates)'], c=df5['Cluster'], cmap='viridis')\n",
    "plt.xlabel('Year')\n",
    "plt.xlim(1900, 2023)\n",
    "plt.ylabel('Population')\n",
    "plt.title('K-Means Clustering')\n",
    "\n",
    "plt.show()\n",
    "\n",
    "\n",
    "# Statistical Summary for K-Means Clustering\n",
    "kmeans_summary = df5.groupby('Cluster')['Population (historical estimates)'].describe()\n",
    "print(\"Statistical Summary for K-Means Clusters:\")\n",
    "print(kmeans_summary)"
   ]
  },
  {
   "cell_type": "code",
   "execution_count": null,
   "id": "c9c0f4b5",
   "metadata": {},
   "outputs": [],
   "source": [
    "from sklearn.decomposition import PCA\n",
    "from sklearn.preprocessing import StandardScaler\n",
    "\n",
    "# Assuming 'df' is your DataFrame\n",
    "# Use one-hot encoding for the categorical feature 'Entity'\n",
    "encoded_entity = pd.get_dummies(df['Entity'])\n",
    "\n",
    "# Scale the numerical features\n",
    "scaler = StandardScaler()\n",
    "df[['Year']] = scaler.fit_transform(df[['Year']])\n",
    "\n",
    "# Combine the encoded categorical and numerical features\n",
    "features = pd.concat([encoded_entity, df['Year']], axis=1)\n",
    "\n",
    "# Apply PCA\n",
    "pca = PCA(n_components=2)  # Assuming 2 components for visualization\n",
    "pca_result = pca.fit_transform(features)\n",
    "# Create a DataFrame to store the results of PCA\n",
    "pca_df = pd.DataFrame(data=pca_result, columns=['PCA1', 'PCA2'])\n",
    "# Concatenate the PCA DataFrame with the original DataFrame\n",
    "df = pd.concat([df, pca_df], axis=1)\n",
    "\n",
    "# Plotting the first two PCA components\n",
    "plt.scatter(df['PCA1'], df['PCA2'])\n",
    "plt.xlabel('PCA 1')\n",
    "plt.ylabel('PCA 2')\n",
    "plt.title('Principal Component Analysis (PCA)')\n",
    "plt.show()\n"
   ]
  },
  {
   "cell_type": "code",
   "execution_count": null,
   "id": "cc25e931",
   "metadata": {},
   "outputs": [],
   "source": [
    "from sklearn.decomposition import PCA\n",
    "import matplotlib.pyplot as plt\n",
    "\n",
    "import pandas as pd\n",
    "import numpy as np\n",
    "\n",
    "def clean_dataset(df5):\n",
    "    assert isinstance(df5, pd.DataFrame), \"df needs to be a pd.DataFrame\"\n",
    "    df5.dropna(inplace=True)\n",
    "    indices_to_keep = ~df5.isin([np.nan, np.inf, -np.inf]).any(axis=1)\n",
    "    return df5[indices_to_keep].astype(np.float64)\n",
    "# Assuming you have your dataset stored in a DataFrame named 'df'\n",
    "\n",
    "# Select features for PCA\n",
    "features = df5[['Year', 'Population (historical estimates)']]  # Replace these with your features\n",
    "\n",
    "# Initialize PCA\n",
    "pca = PCA(n_components=2)  # Specify the number of components to retain\n",
    "\n",
    "# Fit and transform the dataset\n",
    "pca_result = pca.fit_transform(features)\n",
    "\n",
    "# Create a DataFrame to store the PCA results\n",
    "pca_df5 = pd.DataFrame(data=pca_result, columns=['PCA1', 'PCA2'])\n",
    "\n",
    "# Concatenate the PCA DataFrame with the original DataFrame\n",
    "data = pd.concat([df5, pca_df5], axis=1)\n",
    "\n",
    "# Visualize the PCA components\n",
    "plt.scatter(data['PCA1'], data['PCA2'])\n",
    "plt.xlabel('PCA 1')\n",
    "plt.ylabel('PCA 2')\n",
    "plt.title('Principal Component Analysis (PCA)')\n",
    "plt.show()"
   ]
  },
  {
   "cell_type": "code",
   "execution_count": null,
   "id": "fb1843ef",
   "metadata": {},
   "outputs": [],
   "source": [
    "# Drop rows with NaN values in 'Year' and 'Population (historical estimates)'\n",
    "df5.dropna(subset=['Year', 'Population (historical estimates)'], inplace=True)"
   ]
  },
  {
   "cell_type": "code",
   "execution_count": null,
   "id": "7a8934bb",
   "metadata": {},
   "outputs": [],
   "source": [
    "from sklearn.preprocessing import MinMaxScaler\n",
    "\n",
    "from sklearn.decomposition import PCA\n",
    "\n",
    "\n",
    "scaler = MinMaxScaler(feature_range=(-1, 1))  # Scale the data to a specified range\n",
    "df5_scaled = df5.copy()  # Create a copy of the DataFrame\n",
    "df5_scaled[['Year', 'Population (historical estimates)']] = scaler.fit_transform(df5[['Year', 'Population (historical estimates)']])\n",
    "\n",
    "X = df5_scaled[['Year', 'Population (historical estimates)']]\n",
    "pca = PCA(n_components=2)\n",
    "pca_result = pca.fit_transform(X)\n",
    "\n",
    "# Create a DataFrame to store the results of PCA\n",
    "pca_df = pd.DataFrame(data=pca_result, columns=['PCA1', 'PCA2'])\n",
    "\n",
    "# Concatenate the PCA DataFrame with the original DataFrame\n",
    "df5_scaled = pd.concat([df5_scaled, pca_df], axis=1)\n",
    "\n",
    "# Visualizing the PCA components\n",
    "plt.scatter(df5_scaled['PCA1'], df5_scaled['PCA2'])\n",
    "plt.xlabel('PCA 1')\n",
    "plt.xlim(-0.10, 0.30)\n",
    "plt.ylabel('PCA 2')\n",
    "plt.title('Principal Component Analysis (PCA)')\n",
    "plt.show()\n",
    "\n",
    "# Statistical Summary for Principal Component Analysis (PCA)\n",
    "pca_summary = pca_df.describe()\n",
    "print(\"Statistical Summary for PCA Components:\")\n",
    "print(pca_summary)\n",
    "\n",
    "\n",
    "# Display explained variance ratio\n",
    "explained_variance = pca.explained_variance_ratio_\n",
    "print(\"Explained variance ratio:\", explained_variance)\n",
    "\n",
    "# Cumulative explained variance\n",
    "cumulative_explained_variance = explained_variance.cumsum()\n",
    "print(\"Cumulative explained variance:\", cumulative_explained_variance)\n"
   ]
  },
  {
   "cell_type": "code",
   "execution_count": null,
   "id": "702b5316",
   "metadata": {},
   "outputs": [],
   "source": []
  }
 ],
 "metadata": {
  "kernelspec": {
   "display_name": "Python 3 (ipykernel)",
   "language": "python",
   "name": "python3"
  },
  "language_info": {
   "codemirror_mode": {
    "name": "ipython",
    "version": 3
   },
   "file_extension": ".py",
   "mimetype": "text/x-python",
   "name": "python",
   "nbconvert_exporter": "python",
   "pygments_lexer": "ipython3",
   "version": "3.9.7"
  }
 },
 "nbformat": 4,
 "nbformat_minor": 5
}
